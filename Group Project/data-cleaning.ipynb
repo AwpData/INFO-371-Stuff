{
 "cells": [
  {
   "cell_type": "code",
   "execution_count": 2,
   "metadata": {},
   "outputs": [],
   "source": [
    "import pandas as pd\n",
    "import numpy as np\n",
    "import seaborn as sns\n",
    "import matplotlib.pyplot as plt"
   ]
  },
  {
   "cell_type": "markdown",
   "metadata": {},
   "source": [
    "# Load and Merge Datasets"
   ]
  },
  {
   "cell_type": "code",
   "execution_count": 3,
   "metadata": {},
   "outputs": [
    {
     "data": {
      "text/plain": [
       "(4327, 48)"
      ]
     },
     "execution_count": 3,
     "metadata": {},
     "output_type": "execute_result"
    }
   ],
   "source": [
    "completed_cases_data = pd.read_csv(\"pol-viol-cases - completed-cases.csv\")\n",
    "completed_cases_data.shape"
   ]
  },
  {
   "cell_type": "code",
   "execution_count": 4,
   "metadata": {},
   "outputs": [
    {
     "data": {
      "text/plain": [
       "(1511, 48)"
      ]
     },
     "execution_count": 4,
     "metadata": {},
     "output_type": "execute_result"
    }
   ],
   "source": [
    "capital_data = pd.read_csv(\"pol-viol-cases - jan6-capitol-riots.csv\")\n",
    "capital_data.shape"
   ]
  },
  {
   "cell_type": "code",
   "execution_count": 5,
   "metadata": {},
   "outputs": [
    {
     "data": {
      "text/plain": [
       "(214, 48)"
      ]
     },
     "execution_count": 5,
     "metadata": {},
     "output_type": "execute_result"
    }
   ],
   "source": [
    "protests_2017_data = pd.read_csv(\"pol-viol-cases - jan20-2017-protests.csv\")\n",
    "protests_2017_data = protests_2017_data.drop(axis = 1, columns=\"Questionable inclusion\") # Drop unnecessary column\n",
    "protests_2017_data.shape"
   ]
  },
  {
   "cell_type": "code",
   "execution_count": 6,
   "metadata": {},
   "outputs": [
    {
     "data": {
      "text/plain": [
       "(296, 48)"
      ]
     },
     "execution_count": 6,
     "metadata": {},
     "output_type": "execute_result"
    }
   ],
   "source": [
    "pending_cases_data = pd.read_csv(\"pol-viol-cases - pending-cases.csv\")\n",
    "pending_cases_data.shape"
   ]
  },
  {
   "cell_type": "code",
   "execution_count": 7,
   "metadata": {},
   "outputs": [
    {
     "data": {
      "text/plain": [
       "(4327, 48)"
      ]
     },
     "execution_count": 7,
     "metadata": {},
     "output_type": "execute_result"
    }
   ],
   "source": [
    "summer_fall_cases_data = pd.read_csv(\"pol-viol-cases - completed-cases.csv\")\n",
    "summer_fall_cases_data.shape"
   ]
  },
  {
   "cell_type": "code",
   "execution_count": 8,
   "metadata": {},
   "outputs": [
    {
     "data": {
      "text/plain": [
       "(10675, 48)"
      ]
     },
     "execution_count": 8,
     "metadata": {},
     "output_type": "execute_result"
    }
   ],
   "source": [
    "data = pd.concat([completed_cases_data, pending_cases_data, capital_data, protests_2017_data, summer_fall_cases_data])\n",
    "data.shape"
   ]
  },
  {
   "cell_type": "markdown",
   "metadata": {},
   "source": [
    "# Ideological Target"
   ]
  },
  {
   "cell_type": "code",
   "execution_count": 9,
   "metadata": {},
   "outputs": [
    {
     "data": {
      "text/plain": [
       "Ideological target\n",
       "Unspecified                                 2993\n",
       "Government: federal                         2271\n",
       "Identity: race/ethnicity                    1473\n",
       "Multiple motivations                         508\n",
       "Identity: sexuality/gender                   356\n",
       "General public                               326\n",
       "Government: police                           277\n",
       "Religious: Jewish                            272\n",
       "Industry: land development                   232\n",
       "Industry: abortion                           204\n",
       "Religious: Muslim                            200\n",
       "Government: military                         200\n",
       "Identity: nationality                        195\n",
       "Government: state                            178\n",
       "Identity: political affiliation              145\n",
       "Industry: animal products/food/research      120\n",
       "Identity: other                              102\n",
       "Religious: Christian                          62\n",
       "Government: foreign/non-U.S.                  61\n",
       "Industry: private corporations                60\n",
       "Government: international                     28\n",
       "Industry: technology/research                 20\n",
       "Religious: Sikh                               20\n",
       "Religious: other                              18\n",
       "Industry: place of attacker's employment      13\n",
       "Government: first responders                   6\n",
       "Industry: adult entertainment                  2\n",
       "Identity: sexuality                            2\n",
       "Name: count, dtype: int64"
      ]
     },
     "execution_count": 9,
     "metadata": {},
     "output_type": "execute_result"
    }
   ],
   "source": [
    "data['Ideological target'].value_counts()"
   ]
  },
  {
   "cell_type": "code",
   "execution_count": 10,
   "metadata": {},
   "outputs": [],
   "source": [
    "data['Ideological target'] = data['Ideological target'].replace('Identity: sexuality', 'Identity: sexuality/gender')"
   ]
  },
  {
   "cell_type": "code",
   "execution_count": 11,
   "metadata": {},
   "outputs": [],
   "source": [
    "def categorize_target(target):\n",
    "    target = str(target).lower()\n",
    "    \n",
    "    if 'government' in target:\n",
    "        return 'Government'\n",
    "    elif 'identity' in target:\n",
    "        return 'Identity-Based'\n",
    "    elif 'religious' in target:\n",
    "        return 'Religious'\n",
    "    elif 'industry' in target:\n",
    "        return 'Industry/Business'\n",
    "    elif 'general public' in target:\n",
    "        return 'General Public'\n",
    "    elif 'multiple' in target:\n",
    "        return 'Multiple Motivations'\n",
    "    elif 'unspecified' in target:\n",
    "        return 'Unspecified'\n",
    "    else:\n",
    "        return 'Other'\n"
   ]
  },
  {
   "cell_type": "code",
   "execution_count": 12,
   "metadata": {},
   "outputs": [],
   "source": [
    "data['Ideological Target Generalized'] = data['Ideological target'].apply(categorize_target)"
   ]
  },
  {
   "cell_type": "code",
   "execution_count": 13,
   "metadata": {},
   "outputs": [
    {
     "data": {
      "text/plain": [
       "Ideological Target Generalized\n",
       "Government              3021\n",
       "Unspecified             2993\n",
       "Identity-Based          2273\n",
       "Industry/Business        651\n",
       "Religious                572\n",
       "Multiple Motivations     508\n",
       "Other                    331\n",
       "General Public           326\n",
       "Name: count, dtype: int64"
      ]
     },
     "execution_count": 13,
     "metadata": {},
     "output_type": "execute_result"
    }
   ],
   "source": [
    "data['Ideological Target Generalized'].value_counts()"
   ]
  },
  {
   "cell_type": "markdown",
   "metadata": {},
   "source": [
    "# Ideological Affiliation"
   ]
  },
  {
   "cell_type": "code",
   "execution_count": 14,
   "metadata": {},
   "outputs": [
    {
     "data": {
      "text/plain": [
       "Ideological affiliation\n",
       "Rightist: identity-focused      3231\n",
       "Rightist: government-focused    1987\n",
       "Salafi/Jihadist/Islamist        1917\n",
       "Leftist: government-focused      709\n",
       "No affiliation/not a factor      672\n",
       "Leftist: eco-animal focused      421\n",
       "Unclear                          332\n",
       "Rightist: unspecified            316\n",
       "Nationalist-separatist           225\n",
       "Rightist: abortion-focused       212\n",
       "Other                            132\n",
       "Leftist: identity-focused        117\n",
       "Leftist: unspecified              28\n",
       "Rightist: government focused       1\n",
       "Name: count, dtype: int64"
      ]
     },
     "execution_count": 14,
     "metadata": {},
     "output_type": "execute_result"
    }
   ],
   "source": [
    "data['Ideological affiliation'].value_counts()"
   ]
  },
  {
   "cell_type": "code",
   "execution_count": 15,
   "metadata": {},
   "outputs": [],
   "source": [
    "def categorize_target(target):\n",
    "    target_copy = str(target).lower()\n",
    "    \n",
    "    if 'rightist' in target_copy:\n",
    "        return 'Rightist'\n",
    "    elif 'leftist' in target_copy:\n",
    "        return 'Leftist'\n",
    "    else:\n",
    "        return target\n"
   ]
  },
  {
   "cell_type": "code",
   "execution_count": 16,
   "metadata": {},
   "outputs": [],
   "source": [
    "data['Ideological Affiliation Generalized'] = data['Ideological affiliation'].apply(categorize_target)"
   ]
  },
  {
   "cell_type": "code",
   "execution_count": 17,
   "metadata": {},
   "outputs": [
    {
     "data": {
      "text/plain": [
       "Ideological Affiliation Generalized\n",
       "Rightist                       5747\n",
       "Salafi/Jihadist/Islamist       1917\n",
       "Leftist                        1275\n",
       "No affiliation/not a factor     672\n",
       "Unclear                         332\n",
       "Nationalist-separatist          225\n",
       "Other                           132\n",
       "Name: count, dtype: int64"
      ]
     },
     "execution_count": 17,
     "metadata": {},
     "output_type": "execute_result"
    }
   ],
   "source": [
    "data['Ideological Affiliation Generalized'].value_counts()"
   ]
  },
  {
   "cell_type": "markdown",
   "metadata": {},
   "source": [
    "# Criminal Method"
   ]
  },
  {
   "cell_type": "code",
   "execution_count": 18,
   "metadata": {},
   "outputs": [
    {
     "data": {
      "text/plain": [
       "Criminal method\n",
       "Providing material support                                2455\n",
       "Blockading                                                1089\n",
       "Threat/Harassment                                          956\n",
       "Firearms: civilian                                         828\n",
       "Explosives                                                 798\n",
       "Unarmed assault                                            749\n",
       "Other weapons                                              701\n",
       "Criminal violation not linked or motivated politically     626\n",
       "Vandalism/sabotage                                         506\n",
       "Arson                                                      429\n",
       "Uncategorized                                              312\n",
       "Perjury/obstruction of justice                             206\n",
       "Armed intimidation/standoff                                190\n",
       "Hostage-taking                                             183\n",
       "Firearms: military                                         136\n",
       "Vehicle ramming                                             81\n",
       "Chemical or biological weapon deployment                    73\n",
       "Unknown/unspecified/undeveloped                             57\n",
       "Various methods                                             14\n",
       "Name: count, dtype: int64"
      ]
     },
     "execution_count": 18,
     "metadata": {},
     "output_type": "execute_result"
    }
   ],
   "source": [
    "data['Criminal method'].value_counts()"
   ]
  },
  {
   "cell_type": "markdown",
   "metadata": {},
   "source": [
    "# Length of Prison Sentence (Months)"
   ]
  },
  {
   "cell_type": "code",
   "execution_count": 19,
   "metadata": {},
   "outputs": [],
   "source": [
    "data['Length of prison sentence (months)'] = data['Length of prison sentence (months)'].replace([\"#\", \"X\", \"Data not available\", \"Pending\", \"pending\"], 0)"
   ]
  },
  {
   "cell_type": "code",
   "execution_count": 20,
   "metadata": {},
   "outputs": [],
   "source": [
    "data['Length of prison sentence (months)'] = data['Length of prison sentence (months)'].astype(float)"
   ]
  },
  {
   "cell_type": "code",
   "execution_count": 21,
   "metadata": {},
   "outputs": [],
   "source": [
    "data['Length of prison sentence (years)'] = round(data['Length of prison sentence (months)'] / 12, 2)"
   ]
  },
  {
   "cell_type": "code",
   "execution_count": 22,
   "metadata": {},
   "outputs": [],
   "source": [
    "# Make anything sentenced > 100 years = 100 years because that is already a life sentence\n",
    "data['Length of prison sentence (years)'] = np.where(data['Length of prison sentence (years)'] > 100, 100, data['Length of prison sentence (years)'])"
   ]
  },
  {
   "cell_type": "code",
   "execution_count": 23,
   "metadata": {},
   "outputs": [
    {
     "data": {
      "image/png": "[encoded data removed]",
      "text/plain": [
       "<Figure size 640x480 with 1 Axes>"
      ]
     },
     "metadata": {},
     "output_type": "display_data"
    }
   ],
   "source": [
    "_ = sns.histplot(data[data['Length of prison sentence (months)'] > 0]['Length of prison sentence (months)'])\n",
    "sns.despine()"
   ]
  },
  {
   "cell_type": "code",
   "execution_count": 24,
   "metadata": {},
   "outputs": [
    {
     "data": {
      "image/png": "[encoded data removed]",
      "text/plain": [
       "<Figure size 640x480 with 1 Axes>"
      ]
     },
     "metadata": {},
     "output_type": "display_data"
    }
   ],
   "source": [
    "_ = sns.boxplot(data[data['Length of prison sentence (months)'] > 0]['Length of prison sentence (months)'])"
   ]
  },
  {
   "cell_type": "code",
   "execution_count": 111,
   "metadata": {},
   "outputs": [
    {
     "data": {
      "image/png": "[encoded data removed]",
      "text/plain": [
       "<Figure size 640x480 with 1 Axes>"
      ]
     },
     "metadata": {},
     "output_type": "display_data"
    }
   ],
   "source": [
    "_ = sns.histplot(data[data['Length of prison sentence (years)'] > 0]['Length of prison sentence (years)'])\n",
    "_ = plt.title('Count of Sentencing Length (Years) in Dataset')\n",
    "sns.despine()"
   ]
  },
  {
   "cell_type": "code",
   "execution_count": 26,
   "metadata": {},
   "outputs": [
    {
     "data": {
      "image/png": "[encoded data removed]",
      "text/plain": [
       "<Figure size 640x480 with 1 Axes>"
      ]
     },
     "metadata": {},
     "output_type": "display_data"
    }
   ],
   "source": [
    "_ = sns.boxplot(data[data['Length of prison sentence (years)'] > 0]['Length of prison sentence (years)'])"
   ]
  },
  {
   "cell_type": "markdown",
   "metadata": {},
   "source": [
    "# Age"
   ]
  },
  {
   "cell_type": "code",
   "execution_count": 27,
   "metadata": {},
   "outputs": [
    {
     "data": {
      "text/plain": [
       "array(['20', '33', '26', '48', '29', '34', '57', '24', '#', '44', '27',\n",
       "       '18', '35', '67', '16', '45', '52', '17', '47', '39', '19', '22',\n",
       "       '21', '46', '37', '50', '31', '54', '30', '38', '32', '53', '56',\n",
       "       '55', '25', '36', '28', '40', '42', 'Unknown', '59', '62', '23',\n",
       "       '15', '51', '58', '65', '41', '72', '43', '64', '60', '49', '61',\n",
       "       '66', '73', '63', '14', '74', '69', '77', '76', 'unknown', '79',\n",
       "       '75', '68', '71', '70', '88', '01/18/1900', '01/19/1900', '78',\n",
       "       '$50.00', '$39.00', '87', '80'], dtype=object)"
      ]
     },
     "execution_count": 27,
     "metadata": {},
     "output_type": "execute_result"
    }
   ],
   "source": [
    "data['Age'].unique()"
   ]
  },
  {
   "cell_type": "code",
   "execution_count": 28,
   "metadata": {},
   "outputs": [],
   "source": [
    "data['Age'] = data['Age'].replace([\"#\", \"Unknown\", \"unknown\", \"01/18/1900\", \"01/19/1900\", \"$50.00\", \"$39.00\"], 0)"
   ]
  },
  {
   "cell_type": "code",
   "execution_count": 29,
   "metadata": {},
   "outputs": [],
   "source": [
    "data[\"Age\"] = data[\"Age\"].astype(int)"
   ]
  },
  {
   "cell_type": "code",
   "execution_count": 30,
   "metadata": {},
   "outputs": [
    {
     "data": {
      "image/png": "[encoded data removed]",
      "text/plain": [
       "<Figure size 640x480 with 1 Axes>"
      ]
     },
     "metadata": {},
     "output_type": "display_data"
    }
   ],
   "source": [
    "_ = sns.histplot(data[\"Age\"])\n",
    "_ = plt.xlim(10, data[\"Age\"].max())\n",
    "_ = plt.title(\"Count of Ages in Dataset\")\n",
    "sns.despine()"
   ]
  },
  {
   "cell_type": "markdown",
   "metadata": {},
   "source": [
    "# Gender"
   ]
  },
  {
   "cell_type": "code",
   "execution_count": 31,
   "metadata": {},
   "outputs": [
    {
     "data": {
      "text/plain": [
       "Gender\n",
       "Male                     9413\n",
       "Female                   1223\n",
       "Unknown/unclear            23\n",
       "Gender non-conforming      15\n",
       "Name: count, dtype: int64"
      ]
     },
     "execution_count": 31,
     "metadata": {},
     "output_type": "execute_result"
    }
   ],
   "source": [
    "data[\"Gender\"].value_counts()"
   ]
  },
  {
   "cell_type": "markdown",
   "metadata": {},
   "source": [
    "# Religion"
   ]
  },
  {
   "cell_type": "code",
   "execution_count": 32,
   "metadata": {},
   "outputs": [
    {
     "data": {
      "text/plain": [
       "Religion\n",
       "Unknown          7053\n",
       "Muslim           2184\n",
       "Christian        1322\n",
       "Other              79\n",
       "Jewish             29\n",
       "Non-religious       7\n",
       "Name: count, dtype: int64"
      ]
     },
     "execution_count": 32,
     "metadata": {},
     "output_type": "execute_result"
    }
   ],
   "source": [
    "data[\"Religion\"].value_counts()"
   ]
  },
  {
   "cell_type": "markdown",
   "metadata": {},
   "source": [
    "# Racial / Ethnic Group"
   ]
  },
  {
   "cell_type": "code",
   "execution_count": 33,
   "metadata": {},
   "outputs": [
    {
     "data": {
      "text/plain": [
       "Racial/ethnic group\n",
       "White/Caucasian                   6649\n",
       "Middle Eastern/North African      1431\n",
       "Black/African/African American     786\n",
       "Unknown                            707\n",
       "Latino/Hispanic                    677\n",
       "Asian/South Asian                  305\n",
       "American Indian/Alaska Native       44\n",
       "Biracial/Multiracial                39\n",
       "Black/African/African America       16\n",
       "Hawaiian/Pacific Islander           13\n",
       "America Indian/Alaska Native         1\n",
       "Name: count, dtype: int64"
      ]
     },
     "execution_count": 33,
     "metadata": {},
     "output_type": "execute_result"
    }
   ],
   "source": [
    "data[\"Racial/ethnic group\"].value_counts()"
   ]
  },
  {
   "cell_type": "markdown",
   "metadata": {},
   "source": [
    "# Physical Target"
   ]
  },
  {
   "cell_type": "code",
   "execution_count": 34,
   "metadata": {},
   "outputs": [
    {
     "data": {
      "text/plain": [
       "Physical target\n",
       "No direct target                               3034\n",
       "Individual person(s)                           2308\n",
       "Federal site: non-military non-judicial        1712\n",
       "Multiple types                                  500\n",
       "Private site: business/corporate property       452\n",
       "Unspecified/unknown/undeveloped                 389\n",
       "Public site: event                              362\n",
       "Religious institution                           333\n",
       "Private site: residential                       299\n",
       "Medical institution                             206\n",
       "Federal site: military                          166\n",
       "Public: commercial space of recreation          163\n",
       "Municipal: local law enforcement                137\n",
       "Educational institution                         119\n",
       "Mass transportation: water                      106\n",
       "Public: non-commercial space                     84\n",
       "Online                                           48\n",
       "Mass transportation: air                         46\n",
       "Mass transportation: ground                      45\n",
       "Federal site: judicial                           39\n",
       "State site: non-military non-judicial            31\n",
       "State site: judicial                             28\n",
       "Mass transportation: infrastructure              26\n",
       "Federal site: non-U.S. embassy or consulate      14\n",
       "Name: count, dtype: int64"
      ]
     },
     "execution_count": 34,
     "metadata": {},
     "output_type": "execute_result"
    }
   ],
   "source": [
    "data[\"Physical target\"].value_counts()"
   ]
  },
  {
   "cell_type": "code",
   "execution_count": 35,
   "metadata": {},
   "outputs": [],
   "source": [
    "def categorize_target(target):\n",
    "    target_copy = str(target).lower()\n",
    "    if 'private site' in target_copy:\n",
    "        return 'Private Site'\n",
    "    elif 'public site' in target_copy:\n",
    "        return 'Public site'\n",
    "    elif 'federal site' in target_copy:\n",
    "        return 'Federal site'\n",
    "    elif 'state site' in target_copy:\n",
    "        return 'State site'\n",
    "    elif 'mass transportation' in target_copy:\n",
    "        return 'Mass transportation'\n",
    "    else:\n",
    "        return target\n"
   ]
  },
  {
   "cell_type": "code",
   "execution_count": 36,
   "metadata": {},
   "outputs": [],
   "source": [
    "data[\"Physical Target Generalized\"] = data[\"Physical target\"].apply(categorize_target)"
   ]
  },
  {
   "cell_type": "code",
   "execution_count": 37,
   "metadata": {},
   "outputs": [
    {
     "data": {
      "text/plain": [
       "Physical Target Generalized\n",
       "No direct target                          3034\n",
       "Individual person(s)                      2308\n",
       "Federal site                              1931\n",
       "Private Site                               751\n",
       "Multiple types                             500\n",
       "Unspecified/unknown/undeveloped            389\n",
       "Public site                                362\n",
       "Religious institution                      333\n",
       "Mass transportation                        223\n",
       "Medical institution                        206\n",
       "Public: commercial space of recreation     163\n",
       "Municipal: local law enforcement           137\n",
       "Educational institution                    119\n",
       "Public: non-commercial space                84\n",
       "State site                                  59\n",
       "Online                                      48\n",
       "Name: count, dtype: int64"
      ]
     },
     "execution_count": 37,
     "metadata": {},
     "output_type": "execute_result"
    }
   ],
   "source": [
    "data[\"Physical Target Generalized\"].value_counts()"
   ]
  },
  {
   "cell_type": "markdown",
   "metadata": {},
   "source": [
    "# Group Affiliation"
   ]
  },
  {
   "cell_type": "code",
   "execution_count": 38,
   "metadata": {},
   "outputs": [],
   "source": [
    "data['Group affiliation'] = data['Group affiliation'].replace(['No known affiliation', 'No known Affiliation', 'No known affliation', 'No known affiliatoin',  'No Known affiliation', 'No Known Affiliation',  'No known afiliation', 'No known affilliation', 'No known affilation', 'No known afilliation', 'No known affiliaton', 'Unspecified affiliation', 'Unspecified afiiliation', 'Unspecified affliation', 'Unknown'], 'No Known Affiliation')"
   ]
  },
  {
   "cell_type": "code",
   "execution_count": 39,
   "metadata": {},
   "outputs": [],
   "source": [
    "def categorize_target(target): # For post splitting\n",
    "    target_copy = str(target).lower()\n",
    "    if 'ku klux klan' in target_copy or 'unknown kkk group' in target_copy:\n",
    "        return 'Ku Klux Klan'\n",
    "    elif 'proud boy' in target_copy:\n",
    "        return 'Proud Boys'\n",
    "    elif 'aryan nation (an)' in target_copy:\n",
    "        return 'Aryan Nations (AN)'\n",
    "    elif 'revolutionary armed forces of columbia (farc)' in target_copy:\n",
    "        return 'Revolutionary Armed Forces of Colombia (FARC)'\n",
    "    elif 'united self defense forces of columbia (auc)' in target_copy:\n",
    "        return 'United Self Defense Forces of Colombia (AUC)'\n",
    "    elif 'islamic state of iraq and the levant (isis)' in target_copy:\n",
    "        return 'Islamic State of Iraq and the Levant (IS/ISIL/ISIS)'\n",
    "    elif 'national socialist club 131 (nsc-131)' in target_copy:\n",
    "        return 'Nationalist Social Club (NSC-131)'\n",
    "    elif 'al-qa\\'ida (aq)' in target_copy \\\n",
    "    or 'al qaeda (aq)' in target_copy:\n",
    "        return 'al-Qa’ida (AQ)'\n",
    "    else:\n",
    "        return target\n"
   ]
  },
  {
   "cell_type": "code",
   "execution_count": 40,
   "metadata": {},
   "outputs": [],
   "source": [
    "split_cols = data['Group affiliation'].str.split(r\"[,;]\", expand=True)\n",
    "split_cols.columns = ['Group Affiliation 1', 'Group Affiliation 2', 'Group Affiliation 3', 'Group Affiliation 4']\n",
    "\n",
    "data = pd.concat([data, split_cols], axis=1)"
   ]
  },
  {
   "cell_type": "code",
   "execution_count": 41,
   "metadata": {},
   "outputs": [],
   "source": [
    "data['Group Affiliation 1'] = data['Group Affiliation 1'].apply(categorize_target)\n",
    "data['Group Affiliation 2'] = data['Group Affiliation 2'].apply(categorize_target)\n",
    "data['Group Affiliation 3'] = data['Group Affiliation 3'].apply(categorize_target)\n",
    "data['Group Affiliation 4'] = data['Group Affiliation 4'].apply(categorize_target)"
   ]
  },
  {
   "cell_type": "code",
   "execution_count": 42,
   "metadata": {},
   "outputs": [
    {
     "data": {
      "text/html": [
       "<div>\n",
       "<style scoped>\n",
       "    .dataframe tbody tr th:only-of-type {\n",
       "        vertical-align: middle;\n",
       "    }\n",
       "\n",
       "    .dataframe tbody tr th {\n",
       "        vertical-align: top;\n",
       "    }\n",
       "\n",
       "    .dataframe thead th {\n",
       "        text-align: right;\n",
       "    }\n",
       "</style>\n",
       "<table border=\"1\" class=\"dataframe\">\n",
       "  <thead>\n",
       "    <tr style=\"text-align: right;\">\n",
       "      <th></th>\n",
       "      <th>Group affiliation</th>\n",
       "      <th>Group Affiliation 1</th>\n",
       "      <th>Group Affiliation 2</th>\n",
       "      <th>Group Affiliation 3</th>\n",
       "    </tr>\n",
       "  </thead>\n",
       "  <tbody>\n",
       "    <tr>\n",
       "      <th>3515</th>\n",
       "      <td>Aryan Brotherhood (AB)</td>\n",
       "      <td>Aryan Brotherhood (AB)</td>\n",
       "      <td>None</td>\n",
       "      <td>None</td>\n",
       "    </tr>\n",
       "    <tr>\n",
       "      <th>163</th>\n",
       "      <td>No Known Affiliation</td>\n",
       "      <td>No Known Affiliation</td>\n",
       "      <td>None</td>\n",
       "      <td>None</td>\n",
       "    </tr>\n",
       "    <tr>\n",
       "      <th>1429</th>\n",
       "      <td>Animal Liberation Front (ALF), Earth Liberatio...</td>\n",
       "      <td>Animal Liberation Front (ALF)</td>\n",
       "      <td>Earth Liberation Front (ELF)</td>\n",
       "      <td>None</td>\n",
       "    </tr>\n",
       "    <tr>\n",
       "      <th>1583</th>\n",
       "      <td>No Known Affiliation</td>\n",
       "      <td>No Known Affiliation</td>\n",
       "      <td>None</td>\n",
       "      <td>None</td>\n",
       "    </tr>\n",
       "    <tr>\n",
       "      <th>521</th>\n",
       "      <td>No Known Affiliation</td>\n",
       "      <td>No Known Affiliation</td>\n",
       "      <td>None</td>\n",
       "      <td>None</td>\n",
       "    </tr>\n",
       "    <tr>\n",
       "      <th>2847</th>\n",
       "      <td>211 Bootcrew</td>\n",
       "      <td>211 Bootcrew</td>\n",
       "      <td>None</td>\n",
       "      <td>None</td>\n",
       "    </tr>\n",
       "    <tr>\n",
       "      <th>2118</th>\n",
       "      <td>No Known Affiliation</td>\n",
       "      <td>No Known Affiliation</td>\n",
       "      <td>None</td>\n",
       "      <td>None</td>\n",
       "    </tr>\n",
       "    <tr>\n",
       "      <th>1744</th>\n",
       "      <td>al-Shabaab</td>\n",
       "      <td>al-Shabaab</td>\n",
       "      <td>None</td>\n",
       "      <td>None</td>\n",
       "    </tr>\n",
       "    <tr>\n",
       "      <th>435</th>\n",
       "      <td>Animal Liberation Front (ALF)</td>\n",
       "      <td>Animal Liberation Front (ALF)</td>\n",
       "      <td>None</td>\n",
       "      <td>None</td>\n",
       "    </tr>\n",
       "    <tr>\n",
       "      <th>954</th>\n",
       "      <td>al-Qa’ida (AQ)</td>\n",
       "      <td>al-Qa’ida (AQ)</td>\n",
       "      <td>None</td>\n",
       "      <td>None</td>\n",
       "    </tr>\n",
       "  </tbody>\n",
       "</table>\n",
       "</div>"
      ],
      "text/plain": [
       "                                      Group affiliation  \\\n",
       "3515                             Aryan Brotherhood (AB)   \n",
       "163                                No Known Affiliation   \n",
       "1429  Animal Liberation Front (ALF), Earth Liberatio...   \n",
       "1583                               No Known Affiliation   \n",
       "521                                No Known Affiliation   \n",
       "2847                                       211 Bootcrew   \n",
       "2118                               No Known Affiliation   \n",
       "1744                                         al-Shabaab   \n",
       "435                       Animal Liberation Front (ALF)   \n",
       "954                                      al-Qa’ida (AQ)   \n",
       "\n",
       "                Group Affiliation 1            Group Affiliation 2  \\\n",
       "3515         Aryan Brotherhood (AB)                           None   \n",
       "163            No Known Affiliation                           None   \n",
       "1429  Animal Liberation Front (ALF)   Earth Liberation Front (ELF)   \n",
       "1583           No Known Affiliation                           None   \n",
       "521            No Known Affiliation                           None   \n",
       "2847                   211 Bootcrew                           None   \n",
       "2118           No Known Affiliation                           None   \n",
       "1744                     al-Shabaab                           None   \n",
       "435   Animal Liberation Front (ALF)                           None   \n",
       "954                  al-Qa’ida (AQ)                           None   \n",
       "\n",
       "     Group Affiliation 3  \n",
       "3515                None  \n",
       "163                 None  \n",
       "1429                None  \n",
       "1583                None  \n",
       "521                 None  \n",
       "2847                None  \n",
       "2118                None  \n",
       "1744                None  \n",
       "435                 None  \n",
       "954                 None  "
      ]
     },
     "execution_count": 42,
     "metadata": {},
     "output_type": "execute_result"
    }
   ],
   "source": [
    "data[['Group affiliation', 'Group Affiliation 1', 'Group Affiliation 2', 'Group Affiliation 3']].sample(10)"
   ]
  },
  {
   "cell_type": "markdown",
   "metadata": {},
   "source": [
    "# Veteran Status"
   ]
  },
  {
   "cell_type": "code",
   "execution_count": 43,
   "metadata": {},
   "outputs": [
    {
     "data": {
      "text/plain": [
       "Veteran status\n",
       "Civilian                                             9302\n",
       "Former Active duty                                    349\n",
       "Active duty                                            66\n",
       "Former/current member of non-U.S. military             54\n",
       "Honorably discharged                                   44\n",
       "Former reserve components                              20\n",
       "Reserve/national guard (reserve components)            19\n",
       "Former active duty and reserve components              12\n",
       "Former active duty and current reserve components       6\n",
       "Unknown                                                 2\n",
       "Other than honorable discharge                          2\n",
       "Name: count, dtype: int64"
      ]
     },
     "execution_count": 43,
     "metadata": {},
     "output_type": "execute_result"
    }
   ],
   "source": [
    "data[\"Veteran status\"].value_counts()"
   ]
  },
  {
   "cell_type": "code",
   "execution_count": 44,
   "metadata": {},
   "outputs": [],
   "source": [
    "data[\"Veteran status\"] = data[\"Veteran status\"].replace(['Former Active duty',\n",
    " 'Former/current member of non-U.S. military',\n",
    " 'Active duty',\n",
    " 'Unknown',\n",
    " 'Former active duty and reserve components',\n",
    " 'Honorably discharged',\n",
    " 'Former reserve components',\n",
    " 'Other than honorable discharge',\n",
    " 'Reserve/national guard (reserve components)',\n",
    " 'Former active duty and current reserve components'], \"Active duty\")"
   ]
  },
  {
   "cell_type": "code",
   "execution_count": 45,
   "metadata": {},
   "outputs": [
    {
     "data": {
      "text/plain": [
       "Veteran status\n",
       "Civilian       9302\n",
       "Active duty     574\n",
       "Name: count, dtype: int64"
      ]
     },
     "execution_count": 45,
     "metadata": {},
     "output_type": "execute_result"
    }
   ],
   "source": [
    "data[\"Veteran status\"].value_counts()"
   ]
  },
  {
   "cell_type": "markdown",
   "metadata": {},
   "source": [
    "# Citzenship"
   ]
  },
  {
   "cell_type": "code",
   "execution_count": 46,
   "metadata": {},
   "outputs": [
    {
     "data": {
      "text/plain": [
       "Citizenship status\n",
       "U.S. citizen                   8169\n",
       "Foreign national               1361\n",
       "Unknown                         194\n",
       "U.S. permanent resident         154\n",
       "Residing in U.S. on visa         80\n",
       "Residing in U.S. as refugee      25\n",
       "Name: count, dtype: int64"
      ]
     },
     "execution_count": 46,
     "metadata": {},
     "output_type": "execute_result"
    }
   ],
   "source": [
    "data[\"Citizenship status\"].value_counts()"
   ]
  },
  {
   "cell_type": "code",
   "execution_count": 47,
   "metadata": {},
   "outputs": [],
   "source": [
    "data[\"Citizenship status\"] = data[\"Citizenship status\"].replace(['Foreign national',\n",
    " 'Unknown',\n",
    " 'Residing in U.S. on visa',\n",
    " 'U.S. permanent resident',\n",
    " 'Residing in U.S. as refugee'], \"Foreign national\")"
   ]
  },
  {
   "cell_type": "code",
   "execution_count": 48,
   "metadata": {},
   "outputs": [
    {
     "data": {
      "text/plain": [
       "Citizenship status\n",
       "U.S. citizen        8169\n",
       "Foreign national    1814\n",
       "Name: count, dtype: int64"
      ]
     },
     "execution_count": 48,
     "metadata": {},
     "output_type": "execute_result"
    }
   ],
   "source": [
    "data[\"Citizenship status\"].value_counts()"
   ]
  },
  {
   "cell_type": "markdown",
   "metadata": {},
   "source": [
    "## Reordering Columns Part 1"
   ]
  },
  {
   "cell_type": "code",
   "execution_count": 49,
   "metadata": {},
   "outputs": [],
   "source": [
    "cols = data.columns.tolist() # create initial column list\n",
    "cols = cols[:21] + cols[-4:] + cols[21:-4] # Move group affiliation columns\n",
    "cols = cols[:17] + cols[-1:] + cols[17:-1] # Move physical target columnn\n",
    "cols = cols[:38] + cols[-1:] + cols[38:-1] # Move prison sentence length column\n",
    "cols = cols[:20] + cols[-1:] + cols[20:-1] # Move ideological affiliation column\n",
    "cols = cols[:19] + cols[-1:] + cols[19:-1] # Move ideological target column"
   ]
  },
  {
   "cell_type": "code",
   "execution_count": 50,
   "metadata": {},
   "outputs": [
    {
     "data": {
      "text/plain": [
       "Index(['Date', 'Date descriptor', 'Case ID', 'Group identifier',\n",
       "       'Full legal name', 'First name', 'Family name', 'Other names/aliases',\n",
       "       'Co-offender', 'Reason for inclusion', 'Name of case', 'Jurisdiction',\n",
       "       'Location: country', 'Location: state', 'Location: city',\n",
       "       'People vs. property', 'Physical target', 'Physical Target Generalized',\n",
       "       'Ideological target', 'Ideological Target Generalized',\n",
       "       'Ideological affiliation', 'Ideological Affiliation Generalized',\n",
       "       'Affiliation with FTO', 'Group affiliation', 'Group Affiliation 1',\n",
       "       'Group Affiliation 2', 'Group Affiliation 3', 'Group Affiliation 4',\n",
       "       'Hate crime', 'LEO informant', 'Previous similar method',\n",
       "       'Criminal method', 'Additional criminal method', 'Completion of crime',\n",
       "       '# killed', '# injured', 'Charges', 'Plea', 'Verdict',\n",
       "       'Length of prison sentence (months)',\n",
       "       'Length of prison sentence (years)', 'Life sentence', 'Death sentence',\n",
       "       'Additional details', 'Age', 'Gender', 'Other status',\n",
       "       'Racial/ethnic group', 'Religion', 'Veteran status', 'Combat veteran',\n",
       "       'Service classification', 'Citizenship status', 'Tags',\n",
       "       'Short narrative', 'Source description'],\n",
       "      dtype='object')"
      ]
     },
     "execution_count": 50,
     "metadata": {},
     "output_type": "execute_result"
    }
   ],
   "source": [
    "data = data[cols] # Reorder all columns to be based on cols\n",
    "data.columns"
   ]
  },
  {
   "cell_type": "markdown",
   "metadata": {},
   "source": [
    "# Drop Useless Columns"
   ]
  },
  {
   "cell_type": "code",
   "execution_count": 51,
   "metadata": {},
   "outputs": [
    {
     "data": {
      "text/plain": [
       "Index(['Date', 'Date descriptor', 'Full legal name', 'Co-offender',\n",
       "       'Location: state', 'Location: city', 'People vs. property',\n",
       "       'Physical target', 'Physical Target Generalized', 'Ideological target',\n",
       "       'Ideological Target Generalized', 'Ideological affiliation',\n",
       "       'Ideological Affiliation Generalized', 'Affiliation with FTO',\n",
       "       'Group affiliation', 'Group Affiliation 1', 'Group Affiliation 2',\n",
       "       'Group Affiliation 3', 'Group Affiliation 4', 'Hate crime',\n",
       "       'LEO informant', 'Previous similar method', 'Criminal method',\n",
       "       'Additional criminal method', '# killed', '# injured', 'Charges',\n",
       "       'Verdict', 'Length of prison sentence (months)',\n",
       "       'Length of prison sentence (years)', 'Life sentence',\n",
       "       'Additional details', 'Age', 'Gender', 'Other status',\n",
       "       'Racial/ethnic group', 'Religion', 'Veteran status', 'Combat veteran',\n",
       "       'Service classification', 'Citizenship status', 'Tags',\n",
       "       'Short narrative'],\n",
       "      dtype='object')"
      ]
     },
     "execution_count": 51,
     "metadata": {},
     "output_type": "execute_result"
    }
   ],
   "source": [
    "data = data.drop(axis = 1, columns=['Case ID', 'Group identifier', 'First name', 'Family name', 'Other names/aliases', 'Reason for inclusion', 'Name of case', 'Jurisdiction', 'Location: country', 'Completion of crime', 'Plea', 'Death sentence', 'Source description'])\n",
    "data.columns"
   ]
  },
  {
   "cell_type": "markdown",
   "metadata": {},
   "source": [
    "# Date"
   ]
  },
  {
   "cell_type": "code",
   "execution_count": 52,
   "metadata": {},
   "outputs": [],
   "source": [
    "data['Date'] = pd.to_datetime(data['Date'], format='%m/%d/%Y')"
   ]
  },
  {
   "cell_type": "code",
   "execution_count": 53,
   "metadata": {},
   "outputs": [
    {
     "data": {
      "text/plain": [
       "(Timestamp('1990-01-22 00:00:00'), Timestamp('2024-10-02 00:00:00'))"
      ]
     },
     "execution_count": 53,
     "metadata": {},
     "output_type": "execute_result"
    }
   ],
   "source": [
    "data['Date'].min(), data['Date'].max()"
   ]
  },
  {
   "cell_type": "code",
   "execution_count": 54,
   "metadata": {},
   "outputs": [
    {
     "data": {
      "text/plain": [
       "Date\n",
       "2017-01-20    214\n",
       "2018-04-11    116\n",
       "2019-09-03    114\n",
       "2019-09-13    102\n",
       "2005-04-29    100\n",
       "             ... \n",
       "2023-11-14      1\n",
       "2022-01-11      1\n",
       "2023-05-24      1\n",
       "2024-06-19      1\n",
       "2018-07-14      1\n",
       "Name: count, Length: 2528, dtype: int64"
      ]
     },
     "execution_count": 54,
     "metadata": {},
     "output_type": "execute_result"
    }
   ],
   "source": [
    "data['Date'].value_counts()"
   ]
  },
  {
   "cell_type": "markdown",
   "metadata": {},
   "source": [
    "# Date Descriptor"
   ]
  },
  {
   "cell_type": "code",
   "execution_count": 55,
   "metadata": {},
   "outputs": [
    {
     "data": {
      "text/plain": [
       "Date descriptor\n",
       "Indictment            7399\n",
       "Arrest/arraignment     871\n",
       "Crime/attack           751\n",
       "Complaint              651\n",
       "Unknown/unclear        393\n",
       "Sentencing             300\n",
       "Plea                   234\n",
       "Conviction              76\n",
       "Name: count, dtype: int64"
      ]
     },
     "execution_count": 55,
     "metadata": {},
     "output_type": "execute_result"
    }
   ],
   "source": [
    "data['Date descriptor'].value_counts()"
   ]
  },
  {
   "cell_type": "markdown",
   "metadata": {},
   "source": [
    "# Full Legal Name"
   ]
  },
  {
   "cell_type": "code",
   "execution_count": 56,
   "metadata": {},
   "outputs": [
    {
     "data": {
      "text/plain": [
       "Full legal name\n",
       "Mahde Dannon                4\n",
       "Filthy Fuhrer               4\n",
       "Roy Naughton                4\n",
       "Glen Baldwin                4\n",
       "Craig King                  4\n",
       "                           ..\n",
       "Daniel Warmus               1\n",
       "John Juran                  1\n",
       "Anton Lunyk                 1\n",
       "Leonard Pearson Ridge IV    1\n",
       "Michael Basillas            1\n",
       "Name: count, Length: 6324, dtype: int64"
      ]
     },
     "execution_count": 56,
     "metadata": {},
     "output_type": "execute_result"
    }
   ],
   "source": [
    "data['Full legal name'].value_counts()"
   ]
  },
  {
   "cell_type": "markdown",
   "metadata": {},
   "source": [
    "# Co-offender"
   ]
  },
  {
   "cell_type": "code",
   "execution_count": 57,
   "metadata": {},
   "outputs": [],
   "source": [
    "data['Co-offender'] = data['Co-offender'].replace(['No '], 'No')"
   ]
  },
  {
   "cell_type": "code",
   "execution_count": 58,
   "metadata": {},
   "outputs": [
    {
     "data": {
      "text/plain": [
       "Co-offender\n",
       "Yes    6729\n",
       "No     3946\n",
       "Name: count, dtype: int64"
      ]
     },
     "execution_count": 58,
     "metadata": {},
     "output_type": "execute_result"
    }
   ],
   "source": [
    "data['Co-offender'].value_counts()"
   ]
  },
  {
   "cell_type": "markdown",
   "metadata": {},
   "source": [
    "# People vs. property"
   ]
  },
  {
   "cell_type": "code",
   "execution_count": 59,
   "metadata": {},
   "outputs": [],
   "source": [
    "data['People vs. property'] = data['People vs. property'].replace(['Property '], 'Property')\n",
    "data['People vs. property'] = data['People vs. property'].replace(['People and Property'], 'People and property')\n",
    "data['People vs. property'] = data['People vs. property'].fillna('Unspecified/unknown/undeveloped')"
   ]
  },
  {
   "cell_type": "code",
   "execution_count": 60,
   "metadata": {},
   "outputs": [
    {
     "data": {
      "text/plain": [
       "People vs. property\n",
       "People                             3483\n",
       "No direct target                   3010\n",
       "Property                           1995\n",
       "People and property                1490\n",
       "Unspecified/unknown/undeveloped     697\n",
       "Name: count, dtype: int64"
      ]
     },
     "execution_count": 60,
     "metadata": {},
     "output_type": "execute_result"
    }
   ],
   "source": [
    "data['People vs. property'].value_counts()"
   ]
  },
  {
   "cell_type": "markdown",
   "metadata": {},
   "source": [
    "# Affiliation with FTO"
   ]
  },
  {
   "cell_type": "code",
   "execution_count": 61,
   "metadata": {},
   "outputs": [
    {
     "data": {
      "text/plain": [
       "13"
      ]
     },
     "execution_count": 61,
     "metadata": {},
     "output_type": "execute_result"
    }
   ],
   "source": [
    "data['Affiliation with FTO'].isna().sum()"
   ]
  },
  {
   "cell_type": "code",
   "execution_count": 62,
   "metadata": {},
   "outputs": [],
   "source": [
    "data['Affiliation with FTO'] = data['Affiliation with FTO'].fillna('Unknown')"
   ]
  },
  {
   "cell_type": "code",
   "execution_count": 63,
   "metadata": {},
   "outputs": [
    {
     "data": {
      "text/plain": [
       "Affiliation with FTO\n",
       "No         8350\n",
       "Yes        2312\n",
       "Unknown      13\n",
       "Name: count, dtype: int64"
      ]
     },
     "execution_count": 63,
     "metadata": {},
     "output_type": "execute_result"
    }
   ],
   "source": [
    "data['Affiliation with FTO'].value_counts()"
   ]
  },
  {
   "cell_type": "markdown",
   "metadata": {},
   "source": [
    "# Hate Crime"
   ]
  },
  {
   "cell_type": "code",
   "execution_count": 64,
   "metadata": {},
   "outputs": [
    {
     "data": {
      "text/plain": [
       "22"
      ]
     },
     "execution_count": 64,
     "metadata": {},
     "output_type": "execute_result"
    }
   ],
   "source": [
    "data['Hate crime'].isna().sum()"
   ]
  },
  {
   "cell_type": "code",
   "execution_count": 65,
   "metadata": {},
   "outputs": [],
   "source": [
    "data['Hate crime'] = data['Hate crime'].fillna('Unknown')"
   ]
  },
  {
   "cell_type": "code",
   "execution_count": 66,
   "metadata": {},
   "outputs": [
    {
     "data": {
      "text/plain": [
       "Hate crime\n",
       "No         8747\n",
       "Yes        1906\n",
       "Unknown      22\n",
       "Name: count, dtype: int64"
      ]
     },
     "execution_count": 66,
     "metadata": {},
     "output_type": "execute_result"
    }
   ],
   "source": [
    "data['Hate crime'].value_counts()"
   ]
  },
  {
   "cell_type": "markdown",
   "metadata": {},
   "source": [
    "# LEO Informant"
   ]
  },
  {
   "cell_type": "code",
   "execution_count": 67,
   "metadata": {},
   "outputs": [
    {
     "data": {
      "text/plain": [
       "385"
      ]
     },
     "execution_count": 67,
     "metadata": {},
     "output_type": "execute_result"
    }
   ],
   "source": [
    "data['LEO informant'].isna().sum()"
   ]
  },
  {
   "cell_type": "code",
   "execution_count": 68,
   "metadata": {},
   "outputs": [],
   "source": [
    "data['LEO informant'] = data['LEO informant'].fillna('Unknown')"
   ]
  },
  {
   "cell_type": "code",
   "execution_count": 69,
   "metadata": {},
   "outputs": [
    {
     "data": {
      "text/plain": [
       "LEO informant\n",
       "No         7999\n",
       "Yes        2291\n",
       "Unknown     385\n",
       "Name: count, dtype: int64"
      ]
     },
     "execution_count": 69,
     "metadata": {},
     "output_type": "execute_result"
    }
   ],
   "source": [
    "data['LEO informant'].value_counts()"
   ]
  },
  {
   "cell_type": "markdown",
   "metadata": {},
   "source": [
    "# Previous Similar Method"
   ]
  },
  {
   "cell_type": "code",
   "execution_count": 70,
   "metadata": {},
   "outputs": [
    {
     "data": {
      "text/plain": [
       "806"
      ]
     },
     "execution_count": 70,
     "metadata": {},
     "output_type": "execute_result"
    }
   ],
   "source": [
    "data['Previous similar method'].isna().sum()"
   ]
  },
  {
   "cell_type": "code",
   "execution_count": 71,
   "metadata": {},
   "outputs": [],
   "source": [
    "data['Previous similar method'] = data['Previous similar method'].fillna('Unknown')"
   ]
  },
  {
   "cell_type": "code",
   "execution_count": 72,
   "metadata": {},
   "outputs": [
    {
     "data": {
      "text/plain": [
       "Previous similar method\n",
       "No         8363\n",
       "Yes        1506\n",
       "Unknown     806\n",
       "Name: count, dtype: int64"
      ]
     },
     "execution_count": 72,
     "metadata": {},
     "output_type": "execute_result"
    }
   ],
   "source": [
    "data['Previous similar method'].value_counts()"
   ]
  },
  {
   "cell_type": "markdown",
   "metadata": {},
   "source": [
    "# Additional Criminal Method"
   ]
  },
  {
   "cell_type": "code",
   "execution_count": 73,
   "metadata": {},
   "outputs": [
    {
     "data": {
      "text/plain": [
       "1504"
      ]
     },
     "execution_count": 73,
     "metadata": {},
     "output_type": "execute_result"
    }
   ],
   "source": [
    "data['Additional criminal method'].isna().sum()"
   ]
  },
  {
   "cell_type": "code",
   "execution_count": 74,
   "metadata": {},
   "outputs": [],
   "source": [
    "data['Additional criminal method'] = data['Additional criminal method'].fillna('Unknown')"
   ]
  },
  {
   "cell_type": "code",
   "execution_count": 75,
   "metadata": {},
   "outputs": [
    {
     "data": {
      "text/plain": [
       "Additional criminal method\n",
       "No additional criminal method               6786\n",
       "Unknown                                     1504\n",
       "Firearms: civilian                           402\n",
       "Threat/Harassment                            303\n",
       "Blockading                                   238\n",
       "Various methods                              204\n",
       "Providing material support                   174\n",
       "Explosives                                   163\n",
       "Uncategorized                                158\n",
       "Perjury/obstruction of justice               143\n",
       "Unarmed assault                              125\n",
       "Other weapons                                113\n",
       "Hostage-taking                                94\n",
       "Vandalism/sabotage                            82\n",
       "Firearms: military                            67\n",
       "Arson                                         60\n",
       "Armed intimidation/standoff                   38\n",
       "Vehicle ramming                               11\n",
       "No secondary tactic                            6\n",
       "Unknown/unspecified/undeveloped                2\n",
       "Chemical or biological weapon deployment       2\n",
       "Name: count, dtype: int64"
      ]
     },
     "execution_count": 75,
     "metadata": {},
     "output_type": "execute_result"
    }
   ],
   "source": [
    "data['Additional criminal method'].value_counts()"
   ]
  },
  {
   "cell_type": "markdown",
   "metadata": {},
   "source": [
    "# \\# Killed"
   ]
  },
  {
   "cell_type": "code",
   "execution_count": 76,
   "metadata": {},
   "outputs": [
    {
     "data": {
      "text/plain": [
       "# killed\n",
       "0           7624\n",
       "0           1720\n",
       "1            544\n",
       "2            186\n",
       "3             68\n",
       "224           54\n",
       "4             26\n",
       "20            26\n",
       "6             22\n",
       "8             14\n",
       "5             14\n",
       "175           12\n",
       "2,973         12\n",
       "1             10\n",
       "17             6\n",
       "10             4\n",
       "Unknown        4\n",
       "270            4\n",
       "23             4\n",
       "9              4\n",
       "Multiple       4\n",
       "168            4\n",
       "13             2\n",
       "15             2\n",
       "21             2\n",
       "2,996          2\n",
       "11             2\n",
       "49             2\n",
       "58             2\n",
       "202            2\n",
       "17             1\n",
       "6              1\n",
       "2              1\n",
       "Name: count, dtype: int64"
      ]
     },
     "execution_count": 76,
     "metadata": {},
     "output_type": "execute_result"
    }
   ],
   "source": [
    "data['# killed'].value_counts()"
   ]
  },
  {
   "cell_type": "code",
   "execution_count": 77,
   "metadata": {},
   "outputs": [],
   "source": [
    "data['# killed'] = data['# killed'].replace(['Multiple'], 1)\n",
    "data['# killed'] = data['# killed'].replace(['Unknown'], 0)\n",
    "data['# killed'] = data['# killed'].fillna(0)"
   ]
  },
  {
   "cell_type": "code",
   "execution_count": 78,
   "metadata": {},
   "outputs": [],
   "source": [
    "data['# killed'] = data['# killed'].replace(',', \"\", regex=True)\n",
    "data['# killed'] = data['# killed'].replace(r'\\.0', \"\", regex=True)\n",
    "data['# killed'] = data['# killed'].astype(int)"
   ]
  },
  {
   "cell_type": "code",
   "execution_count": 79,
   "metadata": {},
   "outputs": [
    {
     "data": {
      "text/plain": [
       "Killed People\n",
       "0    9638\n",
       "1    1037\n",
       "Name: count, dtype: int64"
      ]
     },
     "execution_count": 79,
     "metadata": {},
     "output_type": "execute_result"
    }
   ],
   "source": [
    "data['Killed People'] = np.where(data['# killed'] > 0, 1, 0)\n",
    "data['Killed People'].value_counts()"
   ]
  },
  {
   "cell_type": "markdown",
   "metadata": {},
   "source": [
    "# \\# Injured"
   ]
  },
  {
   "cell_type": "code",
   "execution_count": 80,
   "metadata": {},
   "outputs": [],
   "source": [
    "data['# injured'] = data['# injured'].replace(['Multiple'], 1)\n",
    "data['# injured'] = data['# injured'].replace(['Unknown', '#'], 0)\n",
    "data['# injured'] = data['# injured'].fillna(0)"
   ]
  },
  {
   "cell_type": "code",
   "execution_count": 81,
   "metadata": {},
   "outputs": [],
   "source": [
    "data['# injured'] = data['# injured'].replace(',', \"\", regex=True)\n",
    "data['# injured'] = data['# injured'].astype(int)"
   ]
  },
  {
   "cell_type": "code",
   "execution_count": 82,
   "metadata": {},
   "outputs": [
    {
     "data": {
      "text/plain": [
       "Injured People\n",
       "0    8675\n",
       "1    2000\n",
       "Name: count, dtype: int64"
      ]
     },
     "execution_count": 82,
     "metadata": {},
     "output_type": "execute_result"
    }
   ],
   "source": [
    "data['Injured People'] = np.where(data['# injured'] > 0, 1, 0)\n",
    "data['Injured People'].value_counts()"
   ]
  },
  {
   "cell_type": "markdown",
   "metadata": {},
   "source": [
    "# Charges"
   ]
  },
  {
   "cell_type": "code",
   "execution_count": 83,
   "metadata": {},
   "outputs": [],
   "source": [
    "data['Charges'].isna().sum()\n",
    "data['Charges'] = data['Charges'].fillna('None')"
   ]
  },
  {
   "cell_type": "code",
   "execution_count": 84,
   "metadata": {},
   "outputs": [],
   "source": [
    "data['Non-Dropped Charges'] = data['Charges'].str.replace(r'\\*[^*;]+(?=;|$);?', '', regex=True).str.strip()\n",
    "data['Non-Dropped Charges'] = data['Non-Dropped Charges'].fillna('None')"
   ]
  },
  {
   "cell_type": "markdown",
   "metadata": {},
   "source": [
    "# Verdict"
   ]
  },
  {
   "cell_type": "code",
   "execution_count": 85,
   "metadata": {},
   "outputs": [
    {
     "data": {
      "text/plain": [
       "Verdict\n",
       "Guilty                                         6990\n",
       "Charged but not tried                          1357\n",
       "Pending                                         832\n",
       "Guilty on some charges/not guilty on others     774\n",
       "Data not available                              492\n",
       "Not guilty                                      204\n",
       "Hung jury/mistrial                               14\n",
       "Name: count, dtype: int64"
      ]
     },
     "execution_count": 85,
     "metadata": {},
     "output_type": "execute_result"
    }
   ],
   "source": [
    "data['Verdict'].value_counts()"
   ]
  },
  {
   "cell_type": "code",
   "execution_count": 86,
   "metadata": {},
   "outputs": [],
   "source": [
    "def categorize_target(target):\n",
    "    target_copy = str(target).lower()\n",
    "    if 'guilty on some charges' in target_copy:\n",
    "        return 'Guilty'\n",
    "    elif 'charged but not tried' in target_copy:\n",
    "        return 'Not guilty'\n",
    "    elif 'hung jury' in target_copy:\n",
    "        return 'Not guilty'\n",
    "    else:\n",
    "        return target\n"
   ]
  },
  {
   "cell_type": "code",
   "execution_count": 87,
   "metadata": {},
   "outputs": [
    {
     "data": {
      "text/plain": [
       "Verdict\n",
       "Guilty                7764\n",
       "Not guilty            1575\n",
       "Pending                832\n",
       "Data not available     492\n",
       "Name: count, dtype: int64"
      ]
     },
     "execution_count": 87,
     "metadata": {},
     "output_type": "execute_result"
    }
   ],
   "source": [
    "data['Verdict'] = data['Verdict'].apply(categorize_target)\n",
    "data['Verdict'].value_counts()"
   ]
  },
  {
   "cell_type": "markdown",
   "metadata": {},
   "source": [
    "# Life sentence"
   ]
  },
  {
   "cell_type": "code",
   "execution_count": 88,
   "metadata": {},
   "outputs": [
    {
     "data": {
      "text/plain": [
       "21"
      ]
     },
     "execution_count": 88,
     "metadata": {},
     "output_type": "execute_result"
    }
   ],
   "source": [
    "data['Life sentence'].isna().sum()"
   ]
  },
  {
   "cell_type": "code",
   "execution_count": 89,
   "metadata": {},
   "outputs": [
    {
     "data": {
      "text/plain": [
       "Life sentence\n",
       "0                     7477\n",
       "#                      945\n",
       "Pending                895\n",
       "Data not available     618\n",
       "1                      356\n",
       "0                      214\n",
       "2                       56\n",
       "4                       18\n",
       "3                       16\n",
       "X                       14\n",
       "5                       12\n",
       "8                        8\n",
       "pending                  6\n",
       "6                        4\n",
       "90                       4\n",
       "10                       4\n",
       "12                       2\n",
       "9                        2\n",
       "34                       2\n",
       "PENDING                  1\n",
       "Name: count, dtype: int64"
      ]
     },
     "execution_count": 89,
     "metadata": {},
     "output_type": "execute_result"
    }
   ],
   "source": [
    "data['Life sentence'].value_counts()"
   ]
  },
  {
   "cell_type": "code",
   "execution_count": 90,
   "metadata": {},
   "outputs": [],
   "source": [
    "data['Life sentence'] = data['Life sentence'].replace(['Data not available', 'Pending', 'X', '#', 'PENDING', 'pending'], 0)\n",
    "data['Life sentence'] = data['Life sentence'].fillna(0)\n",
    "data['Life sentence'] = data['Life sentence'].astype(int)"
   ]
  },
  {
   "cell_type": "code",
   "execution_count": 91,
   "metadata": {},
   "outputs": [
    {
     "data": {
      "text/plain": [
       "Given Life Sentence\n",
       "0    10191\n",
       "1      484\n",
       "Name: count, dtype: int64"
      ]
     },
     "execution_count": 91,
     "metadata": {},
     "output_type": "execute_result"
    }
   ],
   "source": [
    "data['Given Life Sentence'] = np.where(data['Life sentence'] > 0, 1, 0)\n",
    "data['Given Life Sentence'].value_counts()"
   ]
  },
  {
   "cell_type": "markdown",
   "metadata": {},
   "source": [
    "# Additional Details"
   ]
  },
  {
   "cell_type": "code",
   "execution_count": 92,
   "metadata": {},
   "outputs": [
    {
     "data": {
      "text/plain": [
       "3159"
      ]
     },
     "execution_count": 92,
     "metadata": {},
     "output_type": "execute_result"
    }
   ],
   "source": [
    "data['Additional details'].isna().sum()"
   ]
  },
  {
   "cell_type": "code",
   "execution_count": 93,
   "metadata": {},
   "outputs": [],
   "source": [
    "data['Additional details'] = data['Additional details'].fillna('No')"
   ]
  },
  {
   "cell_type": "markdown",
   "metadata": {},
   "source": [
    "# 'Other' Status"
   ]
  },
  {
   "cell_type": "code",
   "execution_count": 94,
   "metadata": {},
   "outputs": [
    {
     "data": {
      "text/plain": [
       "165"
      ]
     },
     "execution_count": 94,
     "metadata": {},
     "output_type": "execute_result"
    }
   ],
   "source": [
    "data['Other status'].isna().sum()"
   ]
  },
  {
   "cell_type": "code",
   "execution_count": 95,
   "metadata": {},
   "outputs": [
    {
     "data": {
      "text/plain": [
       "Other status\n",
       "Non-othered    6776\n",
       "Othered        3733\n",
       "Unknown           1\n",
       "Name: count, dtype: int64"
      ]
     },
     "execution_count": 95,
     "metadata": {},
     "output_type": "execute_result"
    }
   ],
   "source": [
    "data['Other status'].value_counts()"
   ]
  },
  {
   "cell_type": "markdown",
   "metadata": {},
   "source": [
    "# Combat Veteran"
   ]
  },
  {
   "cell_type": "code",
   "execution_count": 96,
   "metadata": {},
   "outputs": [
    {
     "data": {
      "text/plain": [
       "817"
      ]
     },
     "execution_count": 96,
     "metadata": {},
     "output_type": "execute_result"
    }
   ],
   "source": [
    "data['Combat veteran'].isna().sum()"
   ]
  },
  {
   "cell_type": "code",
   "execution_count": 97,
   "metadata": {},
   "outputs": [],
   "source": [
    "data['Combat veteran'] = data['Combat veteran'].fillna('Unknown')"
   ]
  },
  {
   "cell_type": "code",
   "execution_count": 98,
   "metadata": {},
   "outputs": [
    {
     "data": {
      "text/plain": [
       "Combat veteran\n",
       "No         9467\n",
       "Unknown     943\n",
       "Yes         265\n",
       "Name: count, dtype: int64"
      ]
     },
     "execution_count": 98,
     "metadata": {},
     "output_type": "execute_result"
    }
   ],
   "source": [
    "data['Combat veteran'].value_counts()"
   ]
  },
  {
   "cell_type": "markdown",
   "metadata": {},
   "source": [
    "# Service Classification"
   ]
  },
  {
   "cell_type": "code",
   "execution_count": 99,
   "metadata": {},
   "outputs": [
    {
     "data": {
      "text/plain": [
       "10188"
      ]
     },
     "execution_count": 99,
     "metadata": {},
     "output_type": "execute_result"
    }
   ],
   "source": [
    "data['Service classification'].isna().sum()"
   ]
  },
  {
   "cell_type": "code",
   "execution_count": 100,
   "metadata": {},
   "outputs": [],
   "source": [
    "data['Service classification'] = data['Service classification'].fillna('Unknown')"
   ]
  },
  {
   "cell_type": "code",
   "execution_count": 101,
   "metadata": {},
   "outputs": [],
   "source": [
    "def categorize_target(target):\n",
    "    target_copy = str(target).lower()\n",
    "    if 'army' in target_copy:\n",
    "        return 'Army'\n",
    "    elif 'marine' in target_copy:\n",
    "        return 'Marine'\n",
    "    elif 'navy' in target_copy:\n",
    "        return 'Navy'\n",
    "    elif 'national guard' in target_copy:\n",
    "        return 'National Guard'\n",
    "    elif 'air force' in target_copy:\n",
    "        return 'Air Force'\n",
    "    elif 'n/a' in target_copy or 'n?a' in target_copy or 'n/q' in target_copy or 'unknown' in target_copy:\n",
    "        return 'Unknown'\n",
    "    else:\n",
    "        return 'Other'\n"
   ]
  },
  {
   "cell_type": "code",
   "execution_count": 102,
   "metadata": {},
   "outputs": [],
   "source": [
    "data['Service Classification Generalized'] = data['Service classification'].apply(categorize_target)"
   ]
  },
  {
   "cell_type": "code",
   "execution_count": 103,
   "metadata": {},
   "outputs": [
    {
     "data": {
      "text/plain": [
       "Service Classification Generalized\n",
       "Unknown           10226\n",
       "Army                206\n",
       "Marine              138\n",
       "Navy                 50\n",
       "National Guard       22\n",
       "Air Force            20\n",
       "Other                13\n",
       "Name: count, dtype: int64"
      ]
     },
     "execution_count": 103,
     "metadata": {},
     "output_type": "execute_result"
    }
   ],
   "source": [
    "data['Service Classification Generalized'].value_counts()"
   ]
  },
  {
   "cell_type": "markdown",
   "metadata": {},
   "source": [
    "# Tags"
   ]
  },
  {
   "cell_type": "code",
   "execution_count": 104,
   "metadata": {},
   "outputs": [
    {
     "data": {
      "text/plain": [
       "7934"
      ]
     },
     "execution_count": 104,
     "metadata": {},
     "output_type": "execute_result"
    }
   ],
   "source": [
    "data['Tags'].isna().sum()"
   ]
  },
  {
   "cell_type": "markdown",
   "metadata": {},
   "source": [
    "# Short Narrative"
   ]
  },
  {
   "cell_type": "code",
   "execution_count": 105,
   "metadata": {},
   "outputs": [
    {
     "data": {
      "text/plain": [
       "57"
      ]
     },
     "execution_count": 105,
     "metadata": {},
     "output_type": "execute_result"
    }
   ],
   "source": [
    "data['Short narrative'].isna().sum()"
   ]
  },
  {
   "cell_type": "code",
   "execution_count": 106,
   "metadata": {},
   "outputs": [],
   "source": [
    "data['Short narrative'] = data['Short narrative'].fillna('Unknown Narrative')"
   ]
  },
  {
   "cell_type": "markdown",
   "metadata": {},
   "source": [
    "# Reorder Columns"
   ]
  },
  {
   "cell_type": "code",
   "execution_count": 107,
   "metadata": {},
   "outputs": [],
   "source": [
    "cols = data.columns.tolist() # create initial column list\n",
    "cols = cols[:25] + [cols[-5]] + cols[25:-5] + cols[-4:] # Move killed people column\n",
    "cols = cols[:27] + [cols[-4]] + cols[27:-4] + cols[-3:] # Move injured people column\n",
    "cols = cols[:29] + [cols[-3]] + cols[29:-3] + cols[-2:] # Move non-dropped charges column\n",
    "cols = cols[:34] + [cols[-2]] + cols[34:-2] + cols[-1:] # Move given life sentence column\n",
    "cols = cols[:44] + [cols[-1]] + cols[44:-1] # Move generalized service classification column"
   ]
  },
  {
   "cell_type": "code",
   "execution_count": 108,
   "metadata": {},
   "outputs": [
    {
     "data": {
      "text/plain": [
       "Index(['Date', 'Date descriptor', 'Full legal name', 'Co-offender',\n",
       "       'Location: state', 'Location: city', 'People vs. property',\n",
       "       'Physical target', 'Physical Target Generalized', 'Ideological target',\n",
       "       'Ideological Target Generalized', 'Ideological affiliation',\n",
       "       'Ideological Affiliation Generalized', 'Affiliation with FTO',\n",
       "       'Group affiliation', 'Group Affiliation 1', 'Group Affiliation 2',\n",
       "       'Group Affiliation 3', 'Group Affiliation 4', 'Hate crime',\n",
       "       'LEO informant', 'Previous similar method', 'Criminal method',\n",
       "       'Additional criminal method', '# killed', 'Killed People', '# injured',\n",
       "       'Injured People', 'Charges', 'Non-Dropped Charges', 'Verdict',\n",
       "       'Length of prison sentence (months)',\n",
       "       'Length of prison sentence (years)', 'Life sentence',\n",
       "       'Given Life Sentence', 'Additional details', 'Age', 'Gender',\n",
       "       'Other status', 'Racial/ethnic group', 'Religion', 'Veteran status',\n",
       "       'Combat veteran', 'Service classification',\n",
       "       'Service Classification Generalized', 'Citizenship status', 'Tags',\n",
       "       'Short narrative'],\n",
       "      dtype='object')"
      ]
     },
     "execution_count": 108,
     "metadata": {},
     "output_type": "execute_result"
    }
   ],
   "source": [
    "data = data[cols] # Reorder all columns to be based on cols\n",
    "data.columns"
   ]
  },
  {
   "cell_type": "code",
   "execution_count": 109,
   "metadata": {},
   "outputs": [
    {
     "data": {
      "text/plain": [
       "0                                 Date\n",
       "1                      Full legal name\n",
       "2                      Location: state\n",
       "3                      Physical target\n",
       "4                    Group affiliation\n",
       "5                      Criminal method\n",
       "6                             # killed\n",
       "7                              Charges\n",
       "8                              Verdict\n",
       "9    Length of prison sentence (years)\n",
       "dtype: object"
      ]
     },
     "execution_count": 109,
     "metadata": {},
     "output_type": "execute_result"
    }
   ],
   "source": [
    "pd.Series(data.columns[[0, 2, 4, 7, 14, 22, 24, 28, 30, 32]])"
   ]
  },
  {
   "cell_type": "markdown",
   "metadata": {},
   "source": [
    "# Deleting Columns Part 2 "
   ]
  },
  {
   "cell_type": "markdown",
   "metadata": {},
   "source": [
    "# Output to CSV"
   ]
  },
  {
   "cell_type": "code",
   "execution_count": 110,
   "metadata": {},
   "outputs": [],
   "source": [
    "data.to_csv('data-fully-cleaned.csv', index=False)"
   ]
  }
 ],
 "metadata": {
  "kernelspec": {
   "display_name": "Python 3",
   "language": "python",
   "name": "python3"
  },
  "language_info": {
   "codemirror_mode": {
    "name": "ipython",
    "version": 3
   },
   "file_extension": ".py",
   "mimetype": "text/x-python",
   "name": "python",
   "nbconvert_exporter": "python",
   "pygments_lexer": "ipython3",
   "version": "3.12.6"
  }
 },
 "nbformat": 4,
 "nbformat_minor": 2
}
