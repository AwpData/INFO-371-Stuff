{
 "cells": [
  {
   "cell_type": "code",
   "execution_count": 2,
   "metadata": {},
   "outputs": [],
   "source": [
    "import pandas as pd\n",
    "import numpy as np\n",
    "import seaborn as sns"
   ]
  },
  {
   "cell_type": "code",
   "execution_count": 3,
   "metadata": {},
   "outputs": [
    {
     "data": {
      "text/plain": [
       "(4327, 48)"
      ]
     },
     "execution_count": 3,
     "metadata": {},
     "output_type": "execute_result"
    }
   ],
   "source": [
    "data = pd.read_csv(\"pol-viol-cases - completed-cases.csv\")\n",
    "data.shape"
   ]
  },
  {
   "cell_type": "code",
   "execution_count": 5,
   "metadata": {},
   "outputs": [
    {
     "data": {
      "text/plain": [
       "Date                                     0\n",
       "Date descriptor                          0\n",
       "Case ID                                  0\n",
       "Group identifier                         1\n",
       "Full legal name                          0\n",
       "First name                               5\n",
       "Family name                             10\n",
       "Other names/aliases                   3044\n",
       "Co-offender                              0\n",
       "Reason for inclusion                     2\n",
       "Name of case                             0\n",
       "Jurisdiction                             0\n",
       "Location: country                        0\n",
       "Location: state                          0\n",
       "Location: city                           0\n",
       "People vs. property                      0\n",
       "Physical target                          0\n",
       "Ideological target                       0\n",
       "Ideological affiliation                  0\n",
       "Affiliation with FTO                     0\n",
       "Group affiliation                        2\n",
       "Hate crime                               6\n",
       "LEO informant                            0\n",
       "Previous similar method                 52\n",
       "Criminal method                          0\n",
       "Additional criminal method             578\n",
       "Completion of crime                      0\n",
       "# killed                                 1\n",
       "# injured                                1\n",
       "Charges                                  0\n",
       "Plea                                     0\n",
       "Verdict                                  0\n",
       "Length of prison sentence (months)       0\n",
       "Life sentence                            0\n",
       "Death sentence                           2\n",
       "Additional details                    1392\n",
       "Age                                      0\n",
       "Gender                                   0\n",
       "Other status                            38\n",
       "Racial/ethnic group                      0\n",
       "Religion                                 0\n",
       "Veteran status                           0\n",
       "Combat veteran                           0\n",
       "Service classification                4150\n",
       "Citizenship status                       0\n",
       "Tags                                  3874\n",
       "Short narrative                          1\n",
       "Source description                      94\n",
       "dtype: int64"
      ]
     },
     "execution_count": 5,
     "metadata": {},
     "output_type": "execute_result"
    }
   ],
   "source": [
    "data.isna().sum()"
   ]
  },
  {
   "cell_type": "code",
   "execution_count": 6,
   "metadata": {},
   "outputs": [],
   "source": [
    "data_processed = data.drop(columns=['Other names/aliases', 'First name', 'Family name'], axis = 1)"
   ]
  },
  {
   "cell_type": "markdown",
   "metadata": {},
   "source": [
    "Q1: Does being a co-offender change the length of your sentence (in months)?"
   ]
  },
  {
   "cell_type": "code",
   "execution_count": 7,
   "metadata": {},
   "outputs": [
    {
     "data": {
      "text/plain": [
       "Co-offender\n",
       "Yes    2858\n",
       "No     1469\n",
       "Name: count, dtype: int64"
      ]
     },
     "execution_count": 7,
     "metadata": {},
     "output_type": "execute_result"
    }
   ],
   "source": [
    "data_processed['Co-offender'].value_counts()"
   ]
  },
  {
   "cell_type": "code",
   "execution_count": 8,
   "metadata": {},
   "outputs": [
    {
     "data": {
      "text/plain": [
       "Length of prison sentence (months)\n",
       "0                     593\n",
       "#                     465\n",
       "Data not available    304\n",
       "X                     209\n",
       "120                   143\n",
       "                     ... \n",
       "1032                    1\n",
       "272                     1\n",
       "648                     1\n",
       "378                     1\n",
       "405                     1\n",
       "Name: count, Length: 318, dtype: int64"
      ]
     },
     "execution_count": 8,
     "metadata": {},
     "output_type": "execute_result"
    }
   ],
   "source": [
    "data_processed['Length of prison sentence (months)'].value_counts()"
   ]
  },
  {
   "cell_type": "code",
   "execution_count": 9,
   "metadata": {},
   "outputs": [],
   "source": [
    "data_question_1 = data_processed.drop(data_processed[\n",
    "    (data_processed['Length of prison sentence (months)'] == '#') |\n",
    "    (data_processed['Length of prison sentence (months)'] == 'Data not available') |\n",
    "    (data_processed['Length of prison sentence (months)'] == 'X') | \n",
    "    (data_processed['Length of prison sentence (months)'] == 'Pending')\n",
    "].index)"
   ]
  },
  {
   "cell_type": "code",
   "execution_count": 10,
   "metadata": {},
   "outputs": [
    {
     "data": {
      "text/plain": [
       "Length of prison sentence (months)\n",
       "0       593\n",
       "120     143\n",
       "60      132\n",
       "12      114\n",
       "24      110\n",
       "       ... \n",
       "166       1\n",
       "450       1\n",
       "1680      1\n",
       "5.5       1\n",
       "226       1\n",
       "Name: count, Length: 314, dtype: int64"
      ]
     },
     "execution_count": 10,
     "metadata": {},
     "output_type": "execute_result"
    }
   ],
   "source": [
    "data_question_1['Length of prison sentence (months)'].value_counts()"
   ]
  },
  {
   "cell_type": "code",
   "execution_count": 11,
   "metadata": {},
   "outputs": [],
   "source": [
    "data_question_1 = pd.DataFrame(data_question_1)"
   ]
  },
  {
   "cell_type": "code",
   "execution_count": 12,
   "metadata": {},
   "outputs": [],
   "source": [
    "data_question_1['Length of prison sentence (months)'] = data_question_1['Length of prison sentence (months)'].astype('float')"
   ]
  },
  {
   "cell_type": "code",
   "execution_count": 13,
   "metadata": {},
   "outputs": [],
   "source": [
    "# Remove extreme outliers\n",
    "\n",
    "q_3 = np.percentile(data_question_1['Length of prison sentence (months)'], 75)\n",
    "q_1 = np.percentile(data_question_1['Length of prison sentence (months)'], 25)\n",
    "IQR = q_3 - q_1\n",
    "\n",
    "lower_bound = q_1 - (1.5 * IQR)\n",
    "upper_bound =q_3 + (1.5 * IQR)\n",
    "\n",
    "data_question_1 = data_question_1[(data_question_1['Length of prison sentence (months)'] >= lower_bound) & (data_question_1['Length of prison sentence (months)'] <= upper_bound)]\n"
   ]
  },
  {
   "cell_type": "code",
   "execution_count": 14,
   "metadata": {},
   "outputs": [
    {
     "data": {
      "image/png": "[encoded data removed]",
      "text/plain": [
       "<Figure size 640x480 with 1 Axes>"
      ]
     },
     "metadata": {},
     "output_type": "display_data"
    }
   ],
   "source": [
    "_ = sns.boxplot(data = data_question_1, y = 'Length of prison sentence (months)', x = 'Co-offender')"
   ]
  },
  {
   "cell_type": "code",
   "execution_count": null,
   "metadata": {},
   "outputs": [],
   "source": []
  }
 ],
 "metadata": {
  "kernelspec": {
   "display_name": "Python 3",
   "language": "python",
   "name": "python3"
  },
  "language_info": {
   "codemirror_mode": {
    "name": "ipython",
    "version": 3
   },
   "file_extension": ".py",
   "mimetype": "text/x-python",
   "name": "python",
   "nbconvert_exporter": "python",
   "pygments_lexer": "ipython3",
   "version": "3.12.6"
  }
 },
 "nbformat": 4,
 "nbformat_minor": 2
}
