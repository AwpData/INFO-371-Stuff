{
 "cells": [
  {
   "cell_type": "markdown",
   "id": "219e70b1",
   "metadata": {},
   "source": [
    "# INFO 371 Lab 3: Train/Test Splits\n",
    "\n",
    "#### Instructions\n",
    "\n",
    "Please submit your completed lab notebook by the deadline. Working together is fun and useful but you must submit your own work. Discussing the solutions and problems with your instructors and classmates is completely fine. However, **do not** copy and paste their solution(s). Remember - your code/work should not appear (directly or indirectly) on any one else's machine and vice versa. \n",
    "\n",
    "\n",
    "#### Introduction\n",
    "Your task is to set up a machine learning experiment using the [Ames Housing Prices dataset](https://www.tandfonline.com/doi/abs/10.1080/10691898.2011.11889627). You can find more on the dataset [here](https://jse.amstat.org/v19n3/decock/DataDocumentation.txt) and the data is available [here](http://jse.amstat.org/v19n3/decock/AmesHousing.xls) (HINT: copy the link to the dataset and import directly into pandas as a .xls file)."
   ]
  },
  {
   "cell_type": "markdown",
   "id": "e00e6e54",
   "metadata": {},
   "source": [
    "### Part 1: Data preparation\n",
    "\n",
    "To start, let's prepare the data. This will have several steps\n",
    "\n",
    "#### 1. Load the data."
   ]
  },
  {
   "cell_type": "code",
   "execution_count": 1,
   "id": "7d4aac0d",
   "metadata": {},
   "outputs": [],
   "source": [
    "import pandas as pd"
   ]
  },
  {
   "cell_type": "code",
   "execution_count": 2,
   "id": "ea61ba51",
   "metadata": {},
   "outputs": [
    {
     "data": {
      "text/html": [
       "<div>\n",
       "<style scoped>\n",
       "    .dataframe tbody tr th:only-of-type {\n",
       "        vertical-align: middle;\n",
       "    }\n",
       "\n",
       "    .dataframe tbody tr th {\n",
       "        vertical-align: top;\n",
       "    }\n",
       "\n",
       "    .dataframe thead th {\n",
       "        text-align: right;\n",
       "    }\n",
       "</style>\n",
       "<table border=\"1\" class=\"dataframe\">\n",
       "  <thead>\n",
       "    <tr style=\"text-align: right;\">\n",
       "      <th></th>\n",
       "      <th>Order</th>\n",
       "      <th>PID</th>\n",
       "      <th>MS SubClass</th>\n",
       "      <th>MS Zoning</th>\n",
       "      <th>Lot Frontage</th>\n",
       "      <th>Lot Area</th>\n",
       "      <th>Street</th>\n",
       "      <th>Alley</th>\n",
       "      <th>Lot Shape</th>\n",
       "      <th>Land Contour</th>\n",
       "      <th>...</th>\n",
       "      <th>Pool Area</th>\n",
       "      <th>Pool QC</th>\n",
       "      <th>Fence</th>\n",
       "      <th>Misc Feature</th>\n",
       "      <th>Misc Val</th>\n",
       "      <th>Mo Sold</th>\n",
       "      <th>Yr Sold</th>\n",
       "      <th>Sale Type</th>\n",
       "      <th>Sale Condition</th>\n",
       "      <th>SalePrice</th>\n",
       "    </tr>\n",
       "  </thead>\n",
       "  <tbody>\n",
       "    <tr>\n",
       "      <th>0</th>\n",
       "      <td>1</td>\n",
       "      <td>526301100</td>\n",
       "      <td>20</td>\n",
       "      <td>RL</td>\n",
       "      <td>141.0</td>\n",
       "      <td>31770</td>\n",
       "      <td>Pave</td>\n",
       "      <td>NaN</td>\n",
       "      <td>IR1</td>\n",
       "      <td>Lvl</td>\n",
       "      <td>...</td>\n",
       "      <td>0</td>\n",
       "      <td>NaN</td>\n",
       "      <td>NaN</td>\n",
       "      <td>NaN</td>\n",
       "      <td>0</td>\n",
       "      <td>5</td>\n",
       "      <td>2010</td>\n",
       "      <td>WD</td>\n",
       "      <td>Normal</td>\n",
       "      <td>215000</td>\n",
       "    </tr>\n",
       "    <tr>\n",
       "      <th>1</th>\n",
       "      <td>2</td>\n",
       "      <td>526350040</td>\n",
       "      <td>20</td>\n",
       "      <td>RH</td>\n",
       "      <td>80.0</td>\n",
       "      <td>11622</td>\n",
       "      <td>Pave</td>\n",
       "      <td>NaN</td>\n",
       "      <td>Reg</td>\n",
       "      <td>Lvl</td>\n",
       "      <td>...</td>\n",
       "      <td>0</td>\n",
       "      <td>NaN</td>\n",
       "      <td>MnPrv</td>\n",
       "      <td>NaN</td>\n",
       "      <td>0</td>\n",
       "      <td>6</td>\n",
       "      <td>2010</td>\n",
       "      <td>WD</td>\n",
       "      <td>Normal</td>\n",
       "      <td>105000</td>\n",
       "    </tr>\n",
       "    <tr>\n",
       "      <th>2</th>\n",
       "      <td>3</td>\n",
       "      <td>526351010</td>\n",
       "      <td>20</td>\n",
       "      <td>RL</td>\n",
       "      <td>81.0</td>\n",
       "      <td>14267</td>\n",
       "      <td>Pave</td>\n",
       "      <td>NaN</td>\n",
       "      <td>IR1</td>\n",
       "      <td>Lvl</td>\n",
       "      <td>...</td>\n",
       "      <td>0</td>\n",
       "      <td>NaN</td>\n",
       "      <td>NaN</td>\n",
       "      <td>Gar2</td>\n",
       "      <td>12500</td>\n",
       "      <td>6</td>\n",
       "      <td>2010</td>\n",
       "      <td>WD</td>\n",
       "      <td>Normal</td>\n",
       "      <td>172000</td>\n",
       "    </tr>\n",
       "    <tr>\n",
       "      <th>3</th>\n",
       "      <td>4</td>\n",
       "      <td>526353030</td>\n",
       "      <td>20</td>\n",
       "      <td>RL</td>\n",
       "      <td>93.0</td>\n",
       "      <td>11160</td>\n",
       "      <td>Pave</td>\n",
       "      <td>NaN</td>\n",
       "      <td>Reg</td>\n",
       "      <td>Lvl</td>\n",
       "      <td>...</td>\n",
       "      <td>0</td>\n",
       "      <td>NaN</td>\n",
       "      <td>NaN</td>\n",
       "      <td>NaN</td>\n",
       "      <td>0</td>\n",
       "      <td>4</td>\n",
       "      <td>2010</td>\n",
       "      <td>WD</td>\n",
       "      <td>Normal</td>\n",
       "      <td>244000</td>\n",
       "    </tr>\n",
       "    <tr>\n",
       "      <th>4</th>\n",
       "      <td>5</td>\n",
       "      <td>527105010</td>\n",
       "      <td>60</td>\n",
       "      <td>RL</td>\n",
       "      <td>74.0</td>\n",
       "      <td>13830</td>\n",
       "      <td>Pave</td>\n",
       "      <td>NaN</td>\n",
       "      <td>IR1</td>\n",
       "      <td>Lvl</td>\n",
       "      <td>...</td>\n",
       "      <td>0</td>\n",
       "      <td>NaN</td>\n",
       "      <td>MnPrv</td>\n",
       "      <td>NaN</td>\n",
       "      <td>0</td>\n",
       "      <td>3</td>\n",
       "      <td>2010</td>\n",
       "      <td>WD</td>\n",
       "      <td>Normal</td>\n",
       "      <td>189900</td>\n",
       "    </tr>\n",
       "  </tbody>\n",
       "</table>\n",
       "<p>5 rows × 82 columns</p>\n",
       "</div>"
      ],
      "text/plain": [
       "   Order        PID  MS SubClass MS Zoning  Lot Frontage  Lot Area Street  \\\n",
       "0      1  526301100           20        RL         141.0     31770   Pave   \n",
       "1      2  526350040           20        RH          80.0     11622   Pave   \n",
       "2      3  526351010           20        RL          81.0     14267   Pave   \n",
       "3      4  526353030           20        RL          93.0     11160   Pave   \n",
       "4      5  527105010           60        RL          74.0     13830   Pave   \n",
       "\n",
       "  Alley Lot Shape Land Contour  ... Pool Area Pool QC  Fence Misc Feature  \\\n",
       "0   NaN       IR1          Lvl  ...         0     NaN    NaN          NaN   \n",
       "1   NaN       Reg          Lvl  ...         0     NaN  MnPrv          NaN   \n",
       "2   NaN       IR1          Lvl  ...         0     NaN    NaN         Gar2   \n",
       "3   NaN       Reg          Lvl  ...         0     NaN    NaN          NaN   \n",
       "4   NaN       IR1          Lvl  ...         0     NaN  MnPrv          NaN   \n",
       "\n",
       "  Misc Val Mo Sold Yr Sold Sale Type  Sale Condition  SalePrice  \n",
       "0        0       5    2010       WD           Normal     215000  \n",
       "1        0       6    2010       WD           Normal     105000  \n",
       "2    12500       6    2010       WD           Normal     172000  \n",
       "3        0       4    2010       WD           Normal     244000  \n",
       "4        0       3    2010       WD           Normal     189900  \n",
       "\n",
       "[5 rows x 82 columns]"
      ]
     },
     "execution_count": 2,
     "metadata": {},
     "output_type": "execute_result"
    }
   ],
   "source": [
    "data = pd.read_excel('http://jse.amstat.org/v19n3/decock/AmesHousing.xls')\n",
    "data.head()"
   ]
  },
  {
   "cell_type": "markdown",
   "id": "fd4b28e4",
   "metadata": {},
   "source": [
    "#### 2. Select the variables you need: Lot Area, Overall Qual, Overall Cond, Bedroom AbvGr, Full Bath, Half Bath, Sale Condition, SalePrice."
   ]
  },
  {
   "cell_type": "code",
   "execution_count": 3,
   "id": "55e2cf04",
   "metadata": {},
   "outputs": [
    {
     "data": {
      "text/html": [
       "<div>\n",
       "<style scoped>\n",
       "    .dataframe tbody tr th:only-of-type {\n",
       "        vertical-align: middle;\n",
       "    }\n",
       "\n",
       "    .dataframe tbody tr th {\n",
       "        vertical-align: top;\n",
       "    }\n",
       "\n",
       "    .dataframe thead th {\n",
       "        text-align: right;\n",
       "    }\n",
       "</style>\n",
       "<table border=\"1\" class=\"dataframe\">\n",
       "  <thead>\n",
       "    <tr style=\"text-align: right;\">\n",
       "      <th></th>\n",
       "      <th>Lot Area</th>\n",
       "      <th>Overall Qual</th>\n",
       "      <th>Overall Cond</th>\n",
       "      <th>Bedroom AbvGr</th>\n",
       "      <th>Full Bath</th>\n",
       "      <th>Half Bath</th>\n",
       "      <th>Sale Condition</th>\n",
       "      <th>SalePrice</th>\n",
       "    </tr>\n",
       "  </thead>\n",
       "  <tbody>\n",
       "    <tr>\n",
       "      <th>0</th>\n",
       "      <td>31770</td>\n",
       "      <td>6</td>\n",
       "      <td>5</td>\n",
       "      <td>3</td>\n",
       "      <td>1</td>\n",
       "      <td>0</td>\n",
       "      <td>Normal</td>\n",
       "      <td>215000</td>\n",
       "    </tr>\n",
       "    <tr>\n",
       "      <th>1</th>\n",
       "      <td>11622</td>\n",
       "      <td>5</td>\n",
       "      <td>6</td>\n",
       "      <td>2</td>\n",
       "      <td>1</td>\n",
       "      <td>0</td>\n",
       "      <td>Normal</td>\n",
       "      <td>105000</td>\n",
       "    </tr>\n",
       "    <tr>\n",
       "      <th>2</th>\n",
       "      <td>14267</td>\n",
       "      <td>6</td>\n",
       "      <td>6</td>\n",
       "      <td>3</td>\n",
       "      <td>1</td>\n",
       "      <td>1</td>\n",
       "      <td>Normal</td>\n",
       "      <td>172000</td>\n",
       "    </tr>\n",
       "    <tr>\n",
       "      <th>3</th>\n",
       "      <td>11160</td>\n",
       "      <td>7</td>\n",
       "      <td>5</td>\n",
       "      <td>3</td>\n",
       "      <td>2</td>\n",
       "      <td>1</td>\n",
       "      <td>Normal</td>\n",
       "      <td>244000</td>\n",
       "    </tr>\n",
       "    <tr>\n",
       "      <th>4</th>\n",
       "      <td>13830</td>\n",
       "      <td>5</td>\n",
       "      <td>5</td>\n",
       "      <td>3</td>\n",
       "      <td>2</td>\n",
       "      <td>1</td>\n",
       "      <td>Normal</td>\n",
       "      <td>189900</td>\n",
       "    </tr>\n",
       "  </tbody>\n",
       "</table>\n",
       "</div>"
      ],
      "text/plain": [
       "   Lot Area  Overall Qual  Overall Cond  Bedroom AbvGr  Full Bath  Half Bath  \\\n",
       "0     31770             6             5              3          1          0   \n",
       "1     11622             5             6              2          1          0   \n",
       "2     14267             6             6              3          1          1   \n",
       "3     11160             7             5              3          2          1   \n",
       "4     13830             5             5              3          2          1   \n",
       "\n",
       "  Sale Condition  SalePrice  \n",
       "0         Normal     215000  \n",
       "1         Normal     105000  \n",
       "2         Normal     172000  \n",
       "3         Normal     244000  \n",
       "4         Normal     189900  "
      ]
     },
     "execution_count": 3,
     "metadata": {},
     "output_type": "execute_result"
    }
   ],
   "source": [
    "data_filtered = data[[\"Lot Area\", \"Overall Qual\", \"Overall Cond\", \"Bedroom AbvGr\", \"Full Bath\", \"Half Bath\", \"Sale Condition\", \"SalePrice\"]]\n",
    "data_filtered.head()"
   ]
  },
  {
   "cell_type": "markdown",
   "id": "48983b49",
   "metadata": {},
   "source": [
    "#### 3. Explain what each of the selected variables mean. Do you think all the variables are relevant to the sale price of a home?"
   ]
  },
  {
   "cell_type": "markdown",
   "id": "5ae3a759",
   "metadata": {},
   "source": [
    "**Lot Area**: The square footage of a home\n",
    "**Overall Qual**: Rates the overall material and finish of a home\n",
    "**Overall Cond**: Rates the overall condition of a home\n",
    "**Bedroom AbvGr**: Number of bedrooms that are above grade in a home\n",
    "**Full Bath**: Number of full bathrooms that are above grade in a home\n",
    "**Half Bath**: Number of half bedrooms that are above grade in a home\n",
    "**Sale Condition**: The condition of a sale for the home (i.e., how was the home sold)\n",
    "**SalePrice**: Sale price of a home in USD\n",
    "\n",
    "I think these are all relevant to predicting the sale price of a home because each variable is a factor homeowners consider before purchasing a home"
   ]
  },
  {
   "cell_type": "markdown",
   "id": "fa55a4e7",
   "metadata": {},
   "source": [
    "#### 4. Remove any rows with missing values. How many did you remove?"
   ]
  },
  {
   "cell_type": "code",
   "execution_count": 4,
   "id": "ae603ec7",
   "metadata": {},
   "outputs": [
    {
     "data": {
      "text/plain": [
       "(2930, 8)"
      ]
     },
     "execution_count": 4,
     "metadata": {},
     "output_type": "execute_result"
    }
   ],
   "source": [
    "data_filtered.shape"
   ]
  },
  {
   "cell_type": "code",
   "execution_count": 5,
   "id": "ca231c1f",
   "metadata": {},
   "outputs": [
    {
     "data": {
      "text/plain": [
       "(2930, 8)"
      ]
     },
     "execution_count": 5,
     "metadata": {},
     "output_type": "execute_result"
    }
   ],
   "source": [
    "data_filtered = data_filtered.dropna()\n",
    "data_filtered.shape"
   ]
  },
  {
   "cell_type": "markdown",
   "id": "804bc967",
   "metadata": {},
   "source": [
    "There are no missing values as dropna() did not remove any rows. There are 2,930 rows in our dataset. We can confirm there are no nulls with the analysis below"
   ]
  },
  {
   "cell_type": "code",
   "execution_count": 6,
   "id": "b633e59b",
   "metadata": {},
   "outputs": [
    {
     "data": {
      "text/plain": [
       "Lot Area          0\n",
       "Overall Qual      0\n",
       "Overall Cond      0\n",
       "Bedroom AbvGr     0\n",
       "Full Bath         0\n",
       "Half Bath         0\n",
       "Sale Condition    0\n",
       "SalePrice         0\n",
       "dtype: int64"
      ]
     },
     "execution_count": 6,
     "metadata": {},
     "output_type": "execute_result"
    }
   ],
   "source": [
    "data_filtered.isna().sum()"
   ]
  },
  {
   "cell_type": "code",
   "execution_count": 7,
   "id": "86224103",
   "metadata": {},
   "outputs": [
    {
     "data": {
      "text/plain": [
       "(np.int64(1300), np.int64(215245))"
      ]
     },
     "execution_count": 7,
     "metadata": {},
     "output_type": "execute_result"
    }
   ],
   "source": [
    "data_filtered[\"Lot Area\"].min(), data_filtered[\"Lot Area\"].max()"
   ]
  },
  {
   "cell_type": "code",
   "execution_count": 8,
   "id": "11b7e30d",
   "metadata": {},
   "outputs": [
    {
     "data": {
      "text/plain": [
       "(np.int64(12789), np.int64(755000))"
      ]
     },
     "execution_count": 8,
     "metadata": {},
     "output_type": "execute_result"
    }
   ],
   "source": [
    "data_filtered[\"SalePrice\"].min(), data_filtered[\"SalePrice\"].max()"
   ]
  },
  {
   "cell_type": "markdown",
   "id": "bd80fbb1",
   "metadata": {},
   "source": [
    "## Part 2. Create train-test splits"
   ]
  },
  {
   "cell_type": "markdown",
   "id": "bd0b25e3",
   "metadata": {},
   "source": [
    "#### 1. Create splits"
   ]
  },
  {
   "cell_type": "markdown",
   "id": "32f8b3ed",
   "metadata": {},
   "source": [
    "Use sklearn's `train_test_split` function to create a training and test split for the explanatory and response variables (y = 'SalePrice', X = everything else). Use a random seed (`random_state`) of '11' for the function with a 80-20 train/test split.\n",
    "\n",
    "NOTE: You may need to re-run the kernel after everything is working so the output using a seed of 11 is as expected. Your first index in the X_train dataset should be 2554."
   ]
  },
  {
   "cell_type": "code",
   "execution_count": 9,
   "id": "f256783d",
   "metadata": {},
   "outputs": [],
   "source": [
    "from sklearn.model_selection import train_test_split"
   ]
  },
  {
   "cell_type": "code",
   "execution_count": 10,
   "id": "1a744d5f",
   "metadata": {},
   "outputs": [],
   "source": [
    "y = data_filtered[\"SalePrice\"]\n",
    "X = data_filtered.drop(columns=\"SalePrice\")"
   ]
  },
  {
   "cell_type": "code",
   "execution_count": 11,
   "id": "05c73703",
   "metadata": {},
   "outputs": [
    {
     "data": {
      "text/html": [
       "<div>\n",
       "<style scoped>\n",
       "    .dataframe tbody tr th:only-of-type {\n",
       "        vertical-align: middle;\n",
       "    }\n",
       "\n",
       "    .dataframe tbody tr th {\n",
       "        vertical-align: top;\n",
       "    }\n",
       "\n",
       "    .dataframe thead th {\n",
       "        text-align: right;\n",
       "    }\n",
       "</style>\n",
       "<table border=\"1\" class=\"dataframe\">\n",
       "  <thead>\n",
       "    <tr style=\"text-align: right;\">\n",
       "      <th></th>\n",
       "      <th>Lot Area</th>\n",
       "      <th>Overall Qual</th>\n",
       "      <th>Overall Cond</th>\n",
       "      <th>Bedroom AbvGr</th>\n",
       "      <th>Full Bath</th>\n",
       "      <th>Half Bath</th>\n",
       "      <th>Sale Condition</th>\n",
       "    </tr>\n",
       "  </thead>\n",
       "  <tbody>\n",
       "    <tr>\n",
       "      <th>2554</th>\n",
       "      <td>4712</td>\n",
       "      <td>4</td>\n",
       "      <td>7</td>\n",
       "      <td>3</td>\n",
       "      <td>1</td>\n",
       "      <td>1</td>\n",
       "      <td>Abnorml</td>\n",
       "    </tr>\n",
       "  </tbody>\n",
       "</table>\n",
       "</div>"
      ],
      "text/plain": [
       "      Lot Area  Overall Qual  Overall Cond  Bedroom AbvGr  Full Bath  \\\n",
       "2554      4712             4             7              3          1   \n",
       "\n",
       "      Half Bath Sale Condition  \n",
       "2554          1        Abnorml  "
      ]
     },
     "execution_count": 11,
     "metadata": {},
     "output_type": "execute_result"
    }
   ],
   "source": [
    "X_train, X_test, y_train, y_test = train_test_split(X, y, test_size=0.2, random_state=11)\n",
    "X_train.head(1)"
   ]
  },
  {
   "cell_type": "markdown",
   "id": "ee8c7284",
   "metadata": {},
   "source": [
    "#### 2. What is the purpose of using a consistent seed when splitting?"
   ]
  },
  {
   "cell_type": "markdown",
   "id": "acb37e06",
   "metadata": {},
   "source": [
    "Reproducability of the data when comparing models for a reliable comparison"
   ]
  },
  {
   "cell_type": "markdown",
   "id": "3566e118",
   "metadata": {},
   "source": [
    "#### 3. What are the dimensions of your X_train and X_test data sets?"
   ]
  },
  {
   "cell_type": "code",
   "execution_count": 12,
   "id": "a90a3b8a",
   "metadata": {},
   "outputs": [
    {
     "data": {
      "text/plain": [
       "(2344, 7)"
      ]
     },
     "execution_count": 12,
     "metadata": {},
     "output_type": "execute_result"
    }
   ],
   "source": [
    "X_train.shape"
   ]
  },
  {
   "cell_type": "code",
   "execution_count": 13,
   "id": "d202a760",
   "metadata": {},
   "outputs": [
    {
     "data": {
      "text/plain": [
       "(586, 7)"
      ]
     },
     "execution_count": 13,
     "metadata": {},
     "output_type": "execute_result"
    }
   ],
   "source": [
    "X_test.shape"
   ]
  },
  {
   "cell_type": "markdown",
   "id": "5851c748",
   "metadata": {},
   "source": [
    "Our X_train data set has 2,344 rows, and the X_test has 586 rows. Both have the same features"
   ]
  },
  {
   "cell_type": "markdown",
   "id": "96a55576",
   "metadata": {},
   "source": [
    "## Part 3. Compare splits\n",
    "\n",
    "#### 1. Compare means and std devs"
   ]
  },
  {
   "cell_type": "markdown",
   "id": "2a6a16be",
   "metadata": {},
   "source": [
    "How do the mean and standard deviation of the variables in your X_train and X_test datasets compare to the mean and standard deviation across the entire dataset?"
   ]
  },
  {
   "cell_type": "code",
   "execution_count": 14,
   "id": "4f2ec446",
   "metadata": {},
   "outputs": [],
   "source": [
    "sale_condition_mapping = {\n",
    "    'Normal': 1,\n",
    "    'Abnorml': 2,\n",
    "    'AdjLand': 3,\n",
    "    'Alloca': 4,\n",
    "    'Family': 5,\n",
    "    'Partial': 6\n",
    "}"
   ]
  },
  {
   "cell_type": "code",
   "execution_count": 15,
   "id": "81fbd91b",
   "metadata": {},
   "outputs": [
    {
     "data": {
      "text/html": [
       "<div>\n",
       "<style scoped>\n",
       "    .dataframe tbody tr th:only-of-type {\n",
       "        vertical-align: middle;\n",
       "    }\n",
       "\n",
       "    .dataframe tbody tr th {\n",
       "        vertical-align: top;\n",
       "    }\n",
       "\n",
       "    .dataframe thead th {\n",
       "        text-align: right;\n",
       "    }\n",
       "</style>\n",
       "<table border=\"1\" class=\"dataframe\">\n",
       "  <thead>\n",
       "    <tr style=\"text-align: right;\">\n",
       "      <th></th>\n",
       "      <th>Lot Area</th>\n",
       "      <th>Overall Qual</th>\n",
       "      <th>Overall Cond</th>\n",
       "      <th>Bedroom AbvGr</th>\n",
       "      <th>Full Bath</th>\n",
       "      <th>Half Bath</th>\n",
       "      <th>Sale Condition Converted</th>\n",
       "    </tr>\n",
       "  </thead>\n",
       "  <tbody>\n",
       "    <tr>\n",
       "      <th>2554</th>\n",
       "      <td>4712</td>\n",
       "      <td>4</td>\n",
       "      <td>7</td>\n",
       "      <td>3</td>\n",
       "      <td>1</td>\n",
       "      <td>1</td>\n",
       "      <td>2</td>\n",
       "    </tr>\n",
       "    <tr>\n",
       "      <th>1559</th>\n",
       "      <td>5587</td>\n",
       "      <td>8</td>\n",
       "      <td>5</td>\n",
       "      <td>2</td>\n",
       "      <td>2</td>\n",
       "      <td>0</td>\n",
       "      <td>6</td>\n",
       "    </tr>\n",
       "    <tr>\n",
       "      <th>201</th>\n",
       "      <td>10300</td>\n",
       "      <td>7</td>\n",
       "      <td>6</td>\n",
       "      <td>3</td>\n",
       "      <td>2</td>\n",
       "      <td>0</td>\n",
       "      <td>1</td>\n",
       "    </tr>\n",
       "    <tr>\n",
       "      <th>1395</th>\n",
       "      <td>10532</td>\n",
       "      <td>5</td>\n",
       "      <td>3</td>\n",
       "      <td>3</td>\n",
       "      <td>2</td>\n",
       "      <td>0</td>\n",
       "      <td>2</td>\n",
       "    </tr>\n",
       "    <tr>\n",
       "      <th>1907</th>\n",
       "      <td>11345</td>\n",
       "      <td>5</td>\n",
       "      <td>5</td>\n",
       "      <td>4</td>\n",
       "      <td>2</td>\n",
       "      <td>0</td>\n",
       "      <td>1</td>\n",
       "    </tr>\n",
       "  </tbody>\n",
       "</table>\n",
       "</div>"
      ],
      "text/plain": [
       "      Lot Area  Overall Qual  Overall Cond  Bedroom AbvGr  Full Bath  \\\n",
       "2554      4712             4             7              3          1   \n",
       "1559      5587             8             5              2          2   \n",
       "201      10300             7             6              3          2   \n",
       "1395     10532             5             3              3          2   \n",
       "1907     11345             5             5              4          2   \n",
       "\n",
       "      Half Bath  Sale Condition Converted  \n",
       "2554          1                         2  \n",
       "1559          0                         6  \n",
       "201           0                         1  \n",
       "1395          0                         2  \n",
       "1907          0                         1  "
      ]
     },
     "execution_count": 15,
     "metadata": {},
     "output_type": "execute_result"
    }
   ],
   "source": [
    "X_train['Sale Condition Converted'] = X_train['Sale Condition'].map(sale_condition_mapping)\n",
    "X_test['Sale Condition Converted'] = X_test['Sale Condition'].map(sale_condition_mapping)\n",
    "data_filtered['Sale Condition Converted'] = data_filtered['Sale Condition'].map(sale_condition_mapping)\n",
    "\n",
    "X_train = X_train.drop(columns=\"Sale Condition\")\n",
    "X_test = X_test.drop(columns=\"Sale Condition\")\n",
    "data_filtered = data_filtered.drop(columns=\"Sale Condition\")\n",
    "\n",
    "X_train.head()"
   ]
  },
  {
   "cell_type": "code",
   "execution_count": 16,
   "id": "5728473c",
   "metadata": {},
   "outputs": [],
   "source": [
    "X_train_means = X_train.mean()\n",
    "X_train_std = X_train.std()\n",
    "X_test_means = X_test.mean() \n",
    "X_test_std = X_train.std()"
   ]
  },
  {
   "cell_type": "code",
   "execution_count": 17,
   "id": "9fa0f4d4",
   "metadata": {},
   "outputs": [
    {
     "data": {
      "text/plain": [
       "Lot Area                    10157.740188\n",
       "Overall Qual                    6.097270\n",
       "Overall Cond                    5.554181\n",
       "Bedroom AbvGr                   2.851109\n",
       "Full Bath                       1.572099\n",
       "Half Bath                       0.376706\n",
       "Sale Condition Converted        1.593857\n",
       "dtype: float64"
      ]
     },
     "execution_count": 17,
     "metadata": {},
     "output_type": "execute_result"
    }
   ],
   "source": [
    "X_train_means"
   ]
  },
  {
   "cell_type": "code",
   "execution_count": 18,
   "id": "0579a7cf",
   "metadata": {},
   "outputs": [
    {
     "data": {
      "text/plain": [
       "Lot Area                    10108.648464\n",
       "Overall Qual                    6.085324\n",
       "Overall Cond                    5.598976\n",
       "Bedroom AbvGr                   2.866894\n",
       "Full Bath                       1.544369\n",
       "Half Bath                       0.390785\n",
       "Sale Condition Converted        1.517065\n",
       "dtype: float64"
      ]
     },
     "execution_count": 18,
     "metadata": {},
     "output_type": "execute_result"
    }
   ],
   "source": [
    "X_test_means"
   ]
  },
  {
   "cell_type": "code",
   "execution_count": 19,
   "id": "2610d884",
   "metadata": {},
   "outputs": [
    {
     "data": {
      "text/plain": [
       "Lot Area                    8454.252782\n",
       "Overall Qual                   1.432478\n",
       "Overall Cond                   1.131386\n",
       "Bedroom AbvGr                  0.825086\n",
       "Full Bath                      0.553503\n",
       "Half Bath                      0.502817\n",
       "Sale Condition Converted       1.486509\n",
       "dtype: float64"
      ]
     },
     "execution_count": 19,
     "metadata": {},
     "output_type": "execute_result"
    }
   ],
   "source": [
    "X_train_std"
   ]
  },
  {
   "cell_type": "code",
   "execution_count": 20,
   "id": "b0d7499d",
   "metadata": {},
   "outputs": [
    {
     "data": {
      "text/plain": [
       "Lot Area                    8454.252782\n",
       "Overall Qual                   1.432478\n",
       "Overall Cond                   1.131386\n",
       "Bedroom AbvGr                  0.825086\n",
       "Full Bath                      0.553503\n",
       "Half Bath                      0.502817\n",
       "Sale Condition Converted       1.486509\n",
       "dtype: float64"
      ]
     },
     "execution_count": 20,
     "metadata": {},
     "output_type": "execute_result"
    }
   ],
   "source": [
    "X_test_std"
   ]
  },
  {
   "cell_type": "code",
   "execution_count": 21,
   "id": "a1f51853",
   "metadata": {},
   "outputs": [
    {
     "data": {
      "text/plain": [
       "Lot Area                     10147.921843\n",
       "Overall Qual                     6.094881\n",
       "Overall Cond                     5.563140\n",
       "Bedroom AbvGr                    2.854266\n",
       "Full Bath                        1.566553\n",
       "Half Bath                        0.379522\n",
       "SalePrice                   180796.060068\n",
       "Sale Condition Converted         1.578498\n",
       "dtype: float64"
      ]
     },
     "execution_count": 21,
     "metadata": {},
     "output_type": "execute_result"
    }
   ],
   "source": [
    "data_filtered.mean()"
   ]
  },
  {
   "cell_type": "code",
   "execution_count": 22,
   "id": "d2039ee7",
   "metadata": {},
   "outputs": [
    {
     "data": {
      "text/plain": [
       "Lot Area                     7880.017759\n",
       "Overall Qual                    1.411026\n",
       "Overall Cond                    1.111537\n",
       "Bedroom AbvGr                   0.827731\n",
       "Full Bath                       0.552941\n",
       "Half Bath                       0.502629\n",
       "SalePrice                   79886.692357\n",
       "Sale Condition Converted        1.470600\n",
       "dtype: float64"
      ]
     },
     "execution_count": 22,
     "metadata": {},
     "output_type": "execute_result"
    }
   ],
   "source": [
    "data_filtered.std()"
   ]
  },
  {
   "cell_type": "markdown",
   "id": "8e5a4667",
   "metadata": {},
   "source": [
    "The means and standard deviations are mostly the same between X_train, X_test, and the entire dataset."
   ]
  },
  {
   "cell_type": "markdown",
   "id": "03a30053",
   "metadata": {},
   "source": [
    "#### 2. Plot distributions\n",
    "\n",
    "Plot three histograms: the sale price for the entire dataset, that for y_train, and that for y_test. How do the distributions compare?"
   ]
  },
  {
   "cell_type": "code",
   "execution_count": 23,
   "id": "3f255c11",
   "metadata": {},
   "outputs": [],
   "source": [
    "import seaborn as sns"
   ]
  },
  {
   "cell_type": "code",
   "execution_count": 24,
   "id": "8c2bf34b",
   "metadata": {},
   "outputs": [
    {
     "data": {
      "image/png": "[encoded data removed]",
      "text/plain": [
       "<Figure size 640x480 with 1 Axes>"
      ]
     },
     "metadata": {},
     "output_type": "display_data"
    }
   ],
   "source": [
    "_ = sns.histplot(data[\"SalePrice\"])"
   ]
  },
  {
   "cell_type": "code",
   "execution_count": 25,
   "id": "eba57e96",
   "metadata": {},
   "outputs": [
    {
     "data": {
      "image/png": "[encoded data removed]",
      "text/plain": [
       "<Figure size 640x480 with 1 Axes>"
      ]
     },
     "metadata": {},
     "output_type": "display_data"
    }
   ],
   "source": [
    "_ = sns.histplot(y_train)"
   ]
  },
  {
   "cell_type": "code",
   "execution_count": 26,
   "id": "56f68a58",
   "metadata": {},
   "outputs": [
    {
     "data": {
      "image/png": "[encoded data removed]",
      "text/plain": [
       "<Figure size 640x480 with 1 Axes>"
      ]
     },
     "metadata": {},
     "output_type": "display_data"
    }
   ],
   "source": [
    "_ = sns.histplot(y_test)"
   ]
  },
  {
   "cell_type": "markdown",
   "id": "c033b4f6",
   "metadata": {},
   "source": [
    "All three distributions are similar. They are right skewed with a minor outlier on the very right side of the distribution."
   ]
  }
 ],
 "metadata": {
  "kernelspec": {
   "display_name": "Python 3",
   "language": "python",
   "name": "python3"
  },
  "language_info": {
   "codemirror_mode": {
    "name": "ipython",
    "version": 3
   },
   "file_extension": ".py",
   "mimetype": "text/x-python",
   "name": "python",
   "nbconvert_exporter": "python",
   "pygments_lexer": "ipython3",
   "version": "3.12.6"
  }
 },
 "nbformat": 4,
 "nbformat_minor": 5
}
