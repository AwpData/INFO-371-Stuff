{
 "cells": [
  {
   "cell_type": "markdown",
   "id": "219e70b1",
   "metadata": {},
   "source": [
    "# INFO 371 Lab 2: Interaction Effects\n",
    "\n",
    "#### Instructions\n",
    "\n",
    "Please submit your completed lab notebook by the deadline. Working together is fun and useful but you must submit your own work. Discussing the solutions and problems with your instructors and classmates is completely fine. However, **do not** copy and paste their solution(s). Remember - your code/work should not appear (directly or indirectly) on any one else's machine and vice versa. \n",
    "\n",
    "\n",
    "#### Introduction\n",
    "Your task is to dig into interaction effects and answer the following question:\n",
    "\n",
    "Does religion help overcome loneliness-caused loss of life satisfaction? \n",
    "\n",
    "You'll work with a subset of data from the [World Value Survey](https://www.worldvaluessurvey.org/wvs.jsp) in the wvs-satisfaction-subset.csv file. The important variables are:\n",
    "- **satisfaction** - which is in response to the following question: \"All things considered, how satisfied are you with your life as a whole these days?\" The responses range from: _1) not at all satisfied_ ... _10) totally satisfied_\n",
    "- **marital** - which is in response to the following: \"Are you currently...\" The possible responses are: _1) Married; 2) Living together; 3) Divorced; 4) Separated; 5) Widowed; 6) Single_\n",
    "- **religious** - which is in response to the following: \"Independently of whether you attend religious services or not, would you say you are...” The possible responses are: _1) A religious person; 2) Not a religious person; 3) An atheist_"
   ]
  },
  {
   "cell_type": "code",
   "execution_count": 66,
   "id": "1f803a46",
   "metadata": {},
   "outputs": [],
   "source": [
    "#####\n",
    "\n",
    "#Starting code. Do not delete or modify\n",
    "\n",
    "import seaborn as sns\n",
    "import pandas as pd\n",
    "import numpy as np\n",
    "\n",
    "def sample_plot():\n",
    "    alone = [0, 0, 1, 1]\n",
    "    satisfaction = [5, 3, 4, 3.5]\n",
    "    religious = [0, 1, 0, 1]\n",
    "    sample = pd.DataFrame({'alone': alone, 'satisfaction': satisfaction, 'religious': religious})\n",
    "    ax = sns.lineplot(data = sample, x = 'alone', y = 'satisfaction', hue = 'religious', marker = 'o')\n",
    "    sns.despine()\n",
    "    return ax\n",
    "\n",
    "#####"
   ]
  },
  {
   "cell_type": "markdown",
   "id": "e00e6e54",
   "metadata": {},
   "source": [
    "### Step 1: Data preparation\n",
    "\n",
    "To start, let's prepare the data. This will have several steps\n",
    "\n",
    "#### 1. Load the data."
   ]
  },
  {
   "cell_type": "code",
   "execution_count": 67,
   "id": "0a31f569",
   "metadata": {},
   "outputs": [
    {
     "data": {
      "text/html": [
       "<div>\n",
       "<style scoped>\n",
       "    .dataframe tbody tr th:only-of-type {\n",
       "        vertical-align: middle;\n",
       "    }\n",
       "\n",
       "    .dataframe tbody tr th {\n",
       "        vertical-align: top;\n",
       "    }\n",
       "\n",
       "    .dataframe thead th {\n",
       "        text-align: right;\n",
       "    }\n",
       "</style>\n",
       "<table border=\"1\" class=\"dataframe\">\n",
       "  <thead>\n",
       "    <tr style=\"text-align: right;\">\n",
       "      <th></th>\n",
       "      <th>satisfaction</th>\n",
       "      <th>marital</th>\n",
       "      <th>income</th>\n",
       "      <th>age</th>\n",
       "      <th>religious</th>\n",
       "      <th>onlyMyReligion</th>\n",
       "      <th>religionRules</th>\n",
       "      <th>armyRules</th>\n",
       "      <th>continent</th>\n",
       "      <th>region</th>\n",
       "    </tr>\n",
       "  </thead>\n",
       "  <tbody>\n",
       "    <tr>\n",
       "      <th>0</th>\n",
       "      <td>8</td>\n",
       "      <td>6</td>\n",
       "      <td>5</td>\n",
       "      <td>21</td>\n",
       "      <td>1</td>\n",
       "      <td>2</td>\n",
       "      <td>1</td>\n",
       "      <td>1</td>\n",
       "      <td>Africa</td>\n",
       "      <td>12</td>\n",
       "    </tr>\n",
       "    <tr>\n",
       "      <th>1</th>\n",
       "      <td>5</td>\n",
       "      <td>6</td>\n",
       "      <td>6</td>\n",
       "      <td>24</td>\n",
       "      <td>1</td>\n",
       "      <td>1</td>\n",
       "      <td>1</td>\n",
       "      <td>1</td>\n",
       "      <td>Africa</td>\n",
       "      <td>12</td>\n",
       "    </tr>\n",
       "    <tr>\n",
       "      <th>2</th>\n",
       "      <td>4</td>\n",
       "      <td>6</td>\n",
       "      <td>6</td>\n",
       "      <td>26</td>\n",
       "      <td>1</td>\n",
       "      <td>3</td>\n",
       "      <td>2</td>\n",
       "      <td>1</td>\n",
       "      <td>Africa</td>\n",
       "      <td>12</td>\n",
       "    </tr>\n",
       "    <tr>\n",
       "      <th>3</th>\n",
       "      <td>8</td>\n",
       "      <td>6</td>\n",
       "      <td>5</td>\n",
       "      <td>28</td>\n",
       "      <td>1</td>\n",
       "      <td>3</td>\n",
       "      <td>2</td>\n",
       "      <td>2</td>\n",
       "      <td>Africa</td>\n",
       "      <td>12</td>\n",
       "    </tr>\n",
       "    <tr>\n",
       "      <th>4</th>\n",
       "      <td>8</td>\n",
       "      <td>1</td>\n",
       "      <td>7</td>\n",
       "      <td>35</td>\n",
       "      <td>1</td>\n",
       "      <td>3</td>\n",
       "      <td>2</td>\n",
       "      <td>2</td>\n",
       "      <td>Africa</td>\n",
       "      <td>12</td>\n",
       "    </tr>\n",
       "  </tbody>\n",
       "</table>\n",
       "</div>"
      ],
      "text/plain": [
       "   satisfaction  marital  income  age  religious  onlyMyReligion  \\\n",
       "0             8        6       5   21          1               2   \n",
       "1             5        6       6   24          1               1   \n",
       "2             4        6       6   26          1               3   \n",
       "3             8        6       5   28          1               3   \n",
       "4             8        1       7   35          1               3   \n",
       "\n",
       "   religionRules  armyRules continent  region  \n",
       "0              1          1    Africa      12  \n",
       "1              1          1    Africa      12  \n",
       "2              2          1    Africa      12  \n",
       "3              2          2    Africa      12  \n",
       "4              2          2    Africa      12  "
      ]
     },
     "execution_count": 67,
     "metadata": {},
     "output_type": "execute_result"
    }
   ],
   "source": [
    "data = pd.read_csv(\"./wvs-satisfaction-subset.csv\", sep=\"\\t\")\n",
    "data.head()"
   ]
  },
  {
   "cell_type": "markdown",
   "id": "fd4b28e4",
   "metadata": {},
   "source": [
    "#### 2. Select the variables you need: satisfaction, marital, religious."
   ]
  },
  {
   "cell_type": "code",
   "execution_count": 68,
   "id": "7e68158d",
   "metadata": {},
   "outputs": [
    {
     "name": "stdout",
     "output_type": "stream",
     "text": [
      "90350\n"
     ]
    },
    {
     "data": {
      "text/html": [
       "<div>\n",
       "<style scoped>\n",
       "    .dataframe tbody tr th:only-of-type {\n",
       "        vertical-align: middle;\n",
       "    }\n",
       "\n",
       "    .dataframe tbody tr th {\n",
       "        vertical-align: top;\n",
       "    }\n",
       "\n",
       "    .dataframe thead th {\n",
       "        text-align: right;\n",
       "    }\n",
       "</style>\n",
       "<table border=\"1\" class=\"dataframe\">\n",
       "  <thead>\n",
       "    <tr style=\"text-align: right;\">\n",
       "      <th></th>\n",
       "      <th>satisfaction</th>\n",
       "      <th>marital</th>\n",
       "      <th>religious</th>\n",
       "    </tr>\n",
       "  </thead>\n",
       "  <tbody>\n",
       "    <tr>\n",
       "      <th>0</th>\n",
       "      <td>8</td>\n",
       "      <td>6</td>\n",
       "      <td>1</td>\n",
       "    </tr>\n",
       "    <tr>\n",
       "      <th>1</th>\n",
       "      <td>5</td>\n",
       "      <td>6</td>\n",
       "      <td>1</td>\n",
       "    </tr>\n",
       "    <tr>\n",
       "      <th>2</th>\n",
       "      <td>4</td>\n",
       "      <td>6</td>\n",
       "      <td>1</td>\n",
       "    </tr>\n",
       "    <tr>\n",
       "      <th>3</th>\n",
       "      <td>8</td>\n",
       "      <td>6</td>\n",
       "      <td>1</td>\n",
       "    </tr>\n",
       "    <tr>\n",
       "      <th>4</th>\n",
       "      <td>8</td>\n",
       "      <td>1</td>\n",
       "      <td>1</td>\n",
       "    </tr>\n",
       "  </tbody>\n",
       "</table>\n",
       "</div>"
      ],
      "text/plain": [
       "   satisfaction  marital  religious\n",
       "0             8        6          1\n",
       "1             5        6          1\n",
       "2             4        6          1\n",
       "3             8        6          1\n",
       "4             8        1          1"
      ]
     },
     "execution_count": 68,
     "metadata": {},
     "output_type": "execute_result"
    }
   ],
   "source": [
    "data_filtered = data[[\"satisfaction\", \"marital\", \"religious\"]]\n",
    "print(len(data_filtered))\n",
    "data_filtered.head()"
   ]
  },
  {
   "cell_type": "markdown",
   "id": "fa55a4e7",
   "metadata": {},
   "source": [
    "#### 3. Remove missing values. In this dataset, missing values are coded as negative numbers (not as NaN)"
   ]
  },
  {
   "cell_type": "code",
   "execution_count": 69,
   "id": "f800551f",
   "metadata": {},
   "outputs": [
    {
     "data": {
      "text/plain": [
       "85099"
      ]
     },
     "execution_count": 69,
     "metadata": {},
     "output_type": "execute_result"
    }
   ],
   "source": [
    "data_filtered = data_filtered[(data.satisfaction > 0) & (data.marital > 0) & (data.religious > 0)]\n",
    "len(data_filtered)"
   ]
  },
  {
   "cell_type": "markdown",
   "id": "bd80fbb1",
   "metadata": {},
   "source": [
    "#### 4. Create a new auxiliary variable _alone_ that indicates whether the respondent is living alone (i.e. not married and not living together)"
   ]
  },
  {
   "cell_type": "code",
   "execution_count": 70,
   "id": "214d5a9d",
   "metadata": {},
   "outputs": [
    {
     "data": {
      "text/html": [
       "<div>\n",
       "<style scoped>\n",
       "    .dataframe tbody tr th:only-of-type {\n",
       "        vertical-align: middle;\n",
       "    }\n",
       "\n",
       "    .dataframe tbody tr th {\n",
       "        vertical-align: top;\n",
       "    }\n",
       "\n",
       "    .dataframe thead th {\n",
       "        text-align: right;\n",
       "    }\n",
       "</style>\n",
       "<table border=\"1\" class=\"dataframe\">\n",
       "  <thead>\n",
       "    <tr style=\"text-align: right;\">\n",
       "      <th></th>\n",
       "      <th>satisfaction</th>\n",
       "      <th>marital</th>\n",
       "      <th>religious</th>\n",
       "      <th>alone</th>\n",
       "    </tr>\n",
       "  </thead>\n",
       "  <tbody>\n",
       "    <tr>\n",
       "      <th>48750</th>\n",
       "      <td>8</td>\n",
       "      <td>1</td>\n",
       "      <td>2</td>\n",
       "      <td>0</td>\n",
       "    </tr>\n",
       "    <tr>\n",
       "      <th>19278</th>\n",
       "      <td>5</td>\n",
       "      <td>1</td>\n",
       "      <td>1</td>\n",
       "      <td>0</td>\n",
       "    </tr>\n",
       "    <tr>\n",
       "      <th>56289</th>\n",
       "      <td>10</td>\n",
       "      <td>1</td>\n",
       "      <td>1</td>\n",
       "      <td>0</td>\n",
       "    </tr>\n",
       "    <tr>\n",
       "      <th>36066</th>\n",
       "      <td>7</td>\n",
       "      <td>1</td>\n",
       "      <td>1</td>\n",
       "      <td>0</td>\n",
       "    </tr>\n",
       "    <tr>\n",
       "      <th>9301</th>\n",
       "      <td>8</td>\n",
       "      <td>1</td>\n",
       "      <td>1</td>\n",
       "      <td>0</td>\n",
       "    </tr>\n",
       "  </tbody>\n",
       "</table>\n",
       "</div>"
      ],
      "text/plain": [
       "       satisfaction  marital  religious  alone\n",
       "48750             8        1          2      0\n",
       "19278             5        1          1      0\n",
       "56289            10        1          1      0\n",
       "36066             7        1          1      0\n",
       "9301              8        1          1      0"
      ]
     },
     "execution_count": 70,
     "metadata": {},
     "output_type": "execute_result"
    }
   ],
   "source": [
    "data_filtered[\"alone\"] = np.where(data_filtered[\"marital\"].isin([3, 4, 5, 6]), 1, 0)\n",
    "data_filtered.sample(5)"
   ]
  },
  {
   "cell_type": "markdown",
   "id": "2a6a16be",
   "metadata": {},
   "source": [
    "#### 5. Create a new auxiliary variable _religious_ that is 1 if the respondent is religious and 0 if they are not (i.e. if they are either non-religious or atheist)."
   ]
  },
  {
   "cell_type": "code",
   "execution_count": 71,
   "id": "02cdd116",
   "metadata": {},
   "outputs": [
    {
     "data": {
      "text/html": [
       "<div>\n",
       "<style scoped>\n",
       "    .dataframe tbody tr th:only-of-type {\n",
       "        vertical-align: middle;\n",
       "    }\n",
       "\n",
       "    .dataframe tbody tr th {\n",
       "        vertical-align: top;\n",
       "    }\n",
       "\n",
       "    .dataframe thead th {\n",
       "        text-align: right;\n",
       "    }\n",
       "</style>\n",
       "<table border=\"1\" class=\"dataframe\">\n",
       "  <thead>\n",
       "    <tr style=\"text-align: right;\">\n",
       "      <th></th>\n",
       "      <th>satisfaction</th>\n",
       "      <th>marital</th>\n",
       "      <th>religious</th>\n",
       "      <th>alone</th>\n",
       "      <th>is_religious</th>\n",
       "    </tr>\n",
       "  </thead>\n",
       "  <tbody>\n",
       "    <tr>\n",
       "      <th>33617</th>\n",
       "      <td>6</td>\n",
       "      <td>1</td>\n",
       "      <td>1</td>\n",
       "      <td>0</td>\n",
       "      <td>1</td>\n",
       "    </tr>\n",
       "    <tr>\n",
       "      <th>47172</th>\n",
       "      <td>7</td>\n",
       "      <td>1</td>\n",
       "      <td>1</td>\n",
       "      <td>0</td>\n",
       "      <td>1</td>\n",
       "    </tr>\n",
       "    <tr>\n",
       "      <th>83934</th>\n",
       "      <td>8</td>\n",
       "      <td>6</td>\n",
       "      <td>1</td>\n",
       "      <td>1</td>\n",
       "      <td>1</td>\n",
       "    </tr>\n",
       "    <tr>\n",
       "      <th>37509</th>\n",
       "      <td>9</td>\n",
       "      <td>1</td>\n",
       "      <td>1</td>\n",
       "      <td>0</td>\n",
       "      <td>1</td>\n",
       "    </tr>\n",
       "    <tr>\n",
       "      <th>50408</th>\n",
       "      <td>9</td>\n",
       "      <td>2</td>\n",
       "      <td>2</td>\n",
       "      <td>0</td>\n",
       "      <td>0</td>\n",
       "    </tr>\n",
       "  </tbody>\n",
       "</table>\n",
       "</div>"
      ],
      "text/plain": [
       "       satisfaction  marital  religious  alone  is_religious\n",
       "33617             6        1          1      0             1\n",
       "47172             7        1          1      0             1\n",
       "83934             8        6          1      1             1\n",
       "37509             9        1          1      0             1\n",
       "50408             9        2          2      0             0"
      ]
     },
     "execution_count": 71,
     "metadata": {},
     "output_type": "execute_result"
    }
   ],
   "source": [
    "data_filtered[\"is_religious\"] = np.where(data_filtered[\"religious\"] == 1, 1, 0)\n",
    "data_filtered.sample(5)"
   ]
  },
  {
   "cell_type": "markdown",
   "id": "aa6feec7",
   "metadata": {},
   "source": [
    "### Step 2: Graphical analysis\n",
    "\n",
    "Next, let's plot the data\n",
    "\n",
    "#### 1. Create a graph showing the relationship(s) between satisfaction, loneliness, and religion. You can use the graph below as an example\n",
    "\n",
    "(Hint: to do this, compute the average satisfaction for all groups of alone and religious)"
   ]
  },
  {
   "cell_type": "code",
   "execution_count": 72,
   "id": "8f5289ea",
   "metadata": {
    "scrolled": false
   },
   "outputs": [],
   "source": [
    "avg_satisfaction_groups_data = data_filtered.groupby([\"alone\", \"is_religious\"])[\"satisfaction\"].mean().reset_index()"
   ]
  },
  {
   "cell_type": "code",
   "execution_count": 73,
   "id": "e8c19758",
   "metadata": {},
   "outputs": [
    {
     "data": {
      "image/png": "[encoded data removed]",
      "text/plain": [
       "<Figure size 640x480 with 1 Axes>"
      ]
     },
     "metadata": {},
     "output_type": "display_data"
    }
   ],
   "source": [
    "ax = sns.lineplot(data = avg_satisfaction_groups_data, x = 'alone', y = 'satisfaction', hue = 'is_religious', marker = 'o')\n",
    "sns.despine()"
   ]
  },
  {
   "cell_type": "markdown",
   "id": "574e865e",
   "metadata": {},
   "source": [
    "#### 2. Describe what you see in your plot"
   ]
  },
  {
   "cell_type": "markdown",
   "id": "ba66e793",
   "metadata": {},
   "source": [
    "It seems that the more alone a person is, the less satisfaction they have. I also see that religious people tend to have a higher satisfaction compared to non-religious people. Finally, I can see that lonely people tend to have a larger gap in satisfaction compared to together people when we account for religion."
   ]
  },
  {
   "cell_type": "markdown",
   "id": "c8b9954c",
   "metadata": {},
   "source": [
    "### Part 3: Answering the question\n",
    "\n",
    "Next, let's analyze if religious persons are less affected by being alone (in terms of family status) in the data. Estimate the model in the form:\n",
    "\n",
    "$$ satisfaction_i = β0 + β1 · alone_i + β2 · religious_i + β3 · alone_i × religious_i + ϵ_i. $$\n",
    "\n",
    "#### 1. Estimate the model and show the model summary"
   ]
  },
  {
   "cell_type": "code",
   "execution_count": 76,
   "id": "22456517",
   "metadata": {},
   "outputs": [
    {
     "name": "stdout",
     "output_type": "stream",
     "text": [
      "                            OLS Regression Results                            \n",
      "==============================================================================\n",
      "Dep. Variable:           satisfaction   R-squared:                       0.004\n",
      "Model:                            OLS   Adj. R-squared:                  0.004\n",
      "Method:                 Least Squares   F-statistic:                     105.5\n",
      "Date:                Tue, 08 Oct 2024   Prob (F-statistic):           3.35e-68\n",
      "Time:                        11:01:11   Log-Likelihood:            -1.8976e+05\n",
      "No. Observations:               85099   AIC:                         3.795e+05\n",
      "Df Residuals:                   85095   BIC:                         3.796e+05\n",
      "Df Model:                           3                                         \n",
      "Covariance Type:            nonrobust                                         \n",
      "======================================================================================\n",
      "                         coef    std err          t      P>|t|      [0.025      0.975]\n",
      "--------------------------------------------------------------------------------------\n",
      "Intercept              7.0162      0.017    401.436      0.000       6.982       7.050\n",
      "alone                 -0.4022      0.028    -14.314      0.000      -0.457      -0.347\n",
      "is_religious          -0.0781      0.021     -3.725      0.000      -0.119      -0.037\n",
      "alone:is_religious     0.1957      0.034      5.717      0.000       0.129       0.263\n",
      "==============================================================================\n",
      "Omnibus:                     4622.811   Durbin-Watson:                   1.514\n",
      "Prob(Omnibus):                  0.000   Jarque-Bera (JB):             5414.956\n",
      "Skew:                          -0.617   Prob(JB):                         0.00\n",
      "Kurtosis:                       2.919   Cond. No.                         7.98\n",
      "==============================================================================\n",
      "\n",
      "Notes:\n",
      "[1] Standard Errors assume that the covariance matrix of the errors is correctly specified.\n"
     ]
    }
   ],
   "source": [
    "import statsmodels.api as sm\n",
    "\n",
    "model = sm.OLS.from_formula(\"satisfaction ~ alone + is_religious + alone:is_religious\", data = data_filtered).fit()\n",
    "print(model.summary())"
   ]
  },
  {
   "cell_type": "markdown",
   "id": "79b33a41",
   "metadata": {},
   "source": [
    "#### 2. Interpret the model coefficients"
   ]
  },
  {
   "cell_type": "markdown",
   "id": "db19a3bf",
   "metadata": {},
   "source": [
    "$\\beta_0$ (Intercept): A person who is not alone and not religious (and keeping other coefficients constant) will have a an average satisfaction of 7.0162\n",
    "\n",
    "$\\beta_1$ (alone): A person who is alone and not religious (keeping other coefficients constant) will have an average decrease of 0.4022 in satisfaction.\n",
    "\n",
    "$\\beta_2$ (is_religious): A person who is not alone and is religious (keeping other coefficients constant) will have an average decrease of 0.0781 in satisfaction.\n",
    "\n",
    "$\\beta_3$ (alone:is_religious): A person who is alone and is religoius (keeping other coefficients constant) will have an average increase of 0.1957 in satisfaction."
   ]
  },
  {
   "cell_type": "markdown",
   "id": "d1486ebd",
   "metadata": {},
   "source": [
    "**LOOK AT THE GRAPH**\n",
    "\n",
    "B0 is the y-intercept\n",
    "\n",
    "B1 slope of line for alone but not religious\n",
    "\n",
    "B2 is the difference between the first points\n",
    "\n",
    "B3 is the difference between the last point and the counterfactual point (just go up or down from the last point by B3 amount)"
   ]
  },
  {
   "cell_type": "markdown",
   "id": "aebdc9d8",
   "metadata": {},
   "source": [
    "#### 3. Based on your analysis, do religious people have higher life satisfaction even when alone? Is the effect significant?"
   ]
  },
  {
   "cell_type": "markdown",
   "id": "511e7956",
   "metadata": {},
   "source": [
    "According to $\\beta_3$, religious people who are alone will experience an average increase of 0.1957 in satisfaction. This is statistically significant since the p-value of our t-test is < 0.05."
   ]
  },
  {
   "cell_type": "markdown",
   "id": "f4294f48",
   "metadata": {},
   "source": [
    "#### 4. Based on your analysis, can you answer the question: does religion help ameliorate the effect of loneliness?"
   ]
  },
  {
   "cell_type": "markdown",
   "id": "5e75ee10",
   "metadata": {},
   "source": [
    "While we can see from the analysis itself that religion does increase satisfaction, even for lonely people, we have to note that we kept other coefficients at constant. We would need to include (or exclude) other variables before we confirm this relationship."
   ]
  }
 ],
 "metadata": {
  "kernelspec": {
   "display_name": "Python 3",
   "language": "python",
   "name": "python3"
  },
  "language_info": {
   "codemirror_mode": {
    "name": "ipython",
    "version": 3
   },
   "file_extension": ".py",
   "mimetype": "text/x-python",
   "name": "python",
   "nbconvert_exporter": "python",
   "pygments_lexer": "ipython3",
   "version": "3.12.6"
  }
 },
 "nbformat": 4,
 "nbformat_minor": 5
}
